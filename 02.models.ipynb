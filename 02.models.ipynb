{
 "cells": [
  {
   "cell_type": "code",
   "execution_count": 1,
   "metadata": {
    "id": "1S8IM4WxmLCD"
   },
   "outputs": [],
   "source": [
    "!pip install -Uqqq pip\n",
    "!pip install -qqq langchain==0.1.5\n",
    "!pip install -qqq openai==1.11.1\n",
    "!pip install -qqq watermark==2.4.3\n",
    "# !pip install -Uqqq chromadb==0.4.22 \n",
    "!pip install -qqq tiktoken==0.5.2 \n",
    "!pip install -qqq langchain-openai==0.0.5\n",
    "!pip install -qqq huggingface-hub==0.20.3\n",
    "!pip install -qqq sentence-transformers\n",
    "\n",
    "# !pip install -Uqqq pip --progress-bar off\n",
    "# !pip install -qqq langchain==0.0.148 --progress-bar off\n",
    "# !pip install -qqq openai==0.27.4 --progress-bar off\n",
    "# !pip install -qqq tiktoken==0.3.3 --progress-bar off\n",
    "# !pip install -qqq watermark==2.3.1 --progress-bar off\n",
    "# !pip install -qqq huggingface-hub==0.14.0 --progress-bar off\n",
    "# !pip install -qqq sentence_transformers==2.2.2 --progress-bar off"
   ]
  },
  {
   "cell_type": "code",
   "execution_count": 14,
   "metadata": {
    "id": "-M3J7f0AuaSu"
   },
   "outputs": [],
   "source": [
    "import os\n",
    "import textwrap\n",
    "from getpass import getpass\n",
    "\n",
    "import huggingface_hub\n",
    "import langchain\n",
    "import openai\n",
    "from langchain import HuggingFaceHub, LLMChain, PromptTemplate\n",
    "#from langchain.callbacks.base import CallbackManager\n",
    "from langchain.callbacks.manager import AsyncCallbackManager\n",
    "from langchain.callbacks.streaming_stdout import StreamingStdOutCallbackHandler\n",
    "from langchain.chains import RetrievalQA\n",
    "from langchain_openai import ChatOpenAI\n",
    "from langchain_openai import OpenAIEmbeddings\n",
    "from langchain_openai import OpenAI\n",
    "from langchain.embeddings import HuggingFaceEmbeddings\n",
    "\n",
    "from langchain.prompts.chat import (\n",
    "    AIMessagePromptTemplate,\n",
    "    ChatPromptTemplate,\n",
    "    HumanMessagePromptTemplate,\n",
    "    SystemMessagePromptTemplate,\n",
    ")\n",
    "from langchain.schema import AIMessage, HumanMessage, SystemMessage\n",
    "from dotenv import load_dotenv"
   ]
  },
  {
   "cell_type": "code",
   "execution_count": 4,
   "metadata": {
    "colab": {
     "base_uri": "https://localhost:8080/"
    },
    "id": "tVofomMdwSiC",
    "outputId": "c864ce6d-31cb-4e62-e960-4bf075665615"
   },
   "outputs": [
    {
     "name": "stdout",
     "output_type": "stream",
     "text": [
      "Python implementation: CPython\n",
      "Python version       : 3.11.5\n",
      "IPython version      : 8.21.0\n",
      "\n",
      "Compiler    : Clang 14.0.0 (clang-1400.0.29.202)\n",
      "OS          : Darwin\n",
      "Release     : 21.6.0\n",
      "Machine     : x86_64\n",
      "Processor   : i386\n",
      "CPU cores   : 4\n",
      "Architecture: 64bit\n",
      "\n",
      "huggingface_hub: 0.20.3\n",
      "openai         : 1.11.1\n",
      "langchain      : 0.1.5\n",
      "\n"
     ]
    }
   ],
   "source": [
    "%load_ext watermark\n",
    "%watermark --iversions -v -m"
   ]
  },
  {
   "cell_type": "code",
   "execution_count": 6,
   "metadata": {
    "id": "CNm6slS-wWVi"
   },
   "outputs": [],
   "source": [
    "def print_response(response: str):\n",
    "    print(\"\\n\".join(textwrap.wrap(response, width=100)))"
   ]
  },
  {
   "cell_type": "code",
   "execution_count": 5,
   "metadata": {
    "colab": {
     "base_uri": "https://localhost:8080/"
    },
    "id": "-hWVBRLb0qI3",
    "outputId": "1e782f61-fc73-48eb-e82b-379a3931aa63"
   },
   "outputs": [
    {
     "name": "stdout",
     "output_type": "stream",
     "text": [
      "··········\n"
     ]
    }
   ],
   "source": [
    "# OPENAI_API_KEY = getpass()"
   ]
  },
  {
   "cell_type": "code",
   "execution_count": 6,
   "metadata": {
    "colab": {
     "base_uri": "https://localhost:8080/"
    },
    "id": "esd5bUYpzHhw",
    "outputId": "e27c9c40-d790-4d3e-dcc6-82567fdf8e3c"
   },
   "outputs": [
    {
     "name": "stdout",
     "output_type": "stream",
     "text": [
      "··········\n"
     ]
    }
   ],
   "source": [
    "# HUGGINGFACEHUB_API_TOKEN = getpass()"
   ]
  },
  {
   "cell_type": "code",
   "execution_count": 9,
   "metadata": {
    "id": "orXQPgIpwYNF"
   },
   "outputs": [
    {
     "data": {
      "text/plain": [
       "True"
      ]
     },
     "execution_count": 9,
     "metadata": {},
     "output_type": "execute_result"
    }
   ],
   "source": [
    "# os.environ[\"OPENAI_API_KEY\"] = OPENAI_API_KEY\n",
    "# os.environ[\"HUGGINGFACEHUB_API_TOKEN\"] = HUGGINGFACEHUB_API_TOKEN\n",
    "load_dotenv()"
   ]
  },
  {
   "cell_type": "markdown",
   "metadata": {
    "id": "uoKuedBhnfZz"
   },
   "source": [
    "## Large Language Models"
   ]
  },
  {
   "cell_type": "code",
   "execution_count": 22,
   "metadata": {
    "colab": {
     "base_uri": "https://localhost:8080/"
    },
    "id": "_TR7GylF0L_3",
    "outputId": "389c5bbc-f2ad-443d-ef8f-f0208061b501"
   },
   "outputs": [
    {
     "name": "stdout",
     "output_type": "stream",
     "text": [
      "Question: Write a nutrition plan for pregnant woman, including all week days.\n",
      "\n",
      "Answer:\n"
     ]
    }
   ],
   "source": [
    "template = \"\"\"Question: {question}\n",
    "\n",
    "Answer:\"\"\"\n",
    "\n",
    "prompt = PromptTemplate(template=template, input_variables=[\"question\"])\n",
    "\n",
    "question = (\n",
    "#    \"What is the relationship between Jim and Dwight from the TV show The Office?\"\n",
    "    \"Write a nutrition plan for pregnant woman, including all week days.\"\n",
    ")\n",
    "\n",
    "print(prompt.format(question=question))"
   ]
  },
  {
   "cell_type": "code",
   "execution_count": 23,
   "metadata": {
    "colab": {
     "base_uri": "https://localhost:8080/"
    },
    "id": "N92GMLgkzYnh",
    "outputId": "3c7171a7-f7d4-489d-b280-f56c23fcc24c"
   },
   "outputs": [
    {
     "name": "stdout",
     "output_type": "stream",
     "text": [
      "A nutrition plan for pregnant woman should include a balanced diet that includes a variety of fruits\n"
     ]
    }
   ],
   "source": [
    "repo_id = \"declare-lab/flan-alpaca-large\"\n",
    "# repo_id = \"declare-lab/Flan-Alpaca-XL\"\n",
    "flan = HuggingFaceHub(\n",
    "    repo_id=repo_id, model_kwargs={\"temperature\": 0, \"max_length\": 128}\n",
    ")\n",
    "\n",
    "response = flan.invoke(prompt.format(question=question))\n",
    "print_response(response)"
   ]
  },
  {
   "cell_type": "code",
   "execution_count": 25,
   "metadata": {
    "colab": {
     "base_uri": "https://localhost:8080/"
    },
    "id": "Z_IuKGRs0dlh",
    "outputId": "0fda2326-e748-4a1b-d1f0-93751b921bef"
   },
   "outputs": [
    {
     "name": "stdout",
     "output_type": "stream",
     "text": [
      "Monday: Breakfast: - Whole grain toast with avocado spread - Scrambled eggs - Fresh fruit (such as\n",
      "berries or oranges) - Glass of milk  Snack: - Greek yogurt with granola and sliced almonds  Lunch: -\n",
      "Grilled chicken salad with mixed greens, tomatoes, cucumbers, and a light vinaigrette dressing -\n",
      "Whole grain crackers with hummus - Glass of water  Snack: - Apple slices with peanut butter  Dinner:\n",
      "- Baked salmon with quinoa and roasted vegetables (such as broccoli, carrots, and bell peppers) -\n",
      "Glass of water  Tuesday: Breakfast: - Oatmeal with almond milk, topped with sliced bananas and\n",
      "walnuts - Hard boiled egg - Glass of orange juice  Snack: - Carrot sticks with ranch dip  Lunch: -\n",
      "Whole grain wrap with turkey, avocado, lettuce, and tomato - Side of fruit salad - Glass of water\n",
      "Snack: - Whole grain crackers with cheese slices  Dinner: - Grilled lean beef with sweet potato and\n",
      "steamed green beans - Glass of water  Wednesday: Breakfast: - Whole grain waffles with Greek yogurt\n",
      "and fresh berries - Glass of milk  Snack:\n"
     ]
    }
   ],
   "source": [
    "text_davinci_003 = OpenAI(temperature=0)\n",
    "response = text_davinci_003(prompt.format(question=question))\n",
    "print_response(response.strip())"
   ]
  },
  {
   "cell_type": "markdown",
   "metadata": {
    "id": "NJqmY0y2ybdy"
   },
   "source": [
    "### Multiple Completions"
   ]
  },
  {
   "cell_type": "code",
   "execution_count": 26,
   "metadata": {
    "colab": {
     "base_uri": "https://localhost:8080/"
    },
    "id": "tMuJBAg9wcFm",
    "outputId": "045f334a-0a76-4cb4-8d55-4cd367260cf8"
   },
   "outputs": [
    {
     "data": {
      "text/plain": [
       "LLMResult(generations=[[Generation(text='\\n\\nMonday:\\nBreakfast:\\n- Whole grain toast with avocado spread and scrambled eggs\\n- Fresh fruit salad (kiwi, berries, oranges)\\n- Glass of milk or fortified orange juice\\n\\nSnack:\\n- Greek yogurt with honey and chopped nuts\\n\\nLunch:\\n- Grilled chicken breast with quinoa and roasted vegetables (bell peppers, zucchini, carrots)\\n- Small side salad with balsamic vinaigrette dressing\\n\\nSnack:\\n- Apple slices with almond butter\\n\\nDinner:\\n- Baked salmon with brown rice and steamed broccoli\\n- Glass of water with lemon\\n\\nTuesday:\\nBreakfast:\\n- Oatmeal with almond milk, topped with sliced bananas and chia seeds\\n- Hard boiled egg\\n- Glass of orange juice\\n\\nSnack:\\n- Hummus with whole wheat pita and sliced cucumbers\\n\\nLunch:\\n- Whole wheat wrap filled with grilled vegetables, black beans, and avocado\\n- Side of fresh fruit (grapes, pineapple)\\n\\nSnack:\\n- Carrot sticks with ranch dip\\n\\nDinner:\\n- Turkey meatloaf with sweet potato mash and steamed green beans\\n- Glass of water with lemon\\n\\nWednesday:\\nBreakfast:\\n- Whole grain waffles with Greek yogurt and fresh berries\\n- Glass of milk or', generation_info={'finish_reason': 'length', 'logprobs': None}), Generation(text='\\nMonday:\\nBreakfast:\\n- Whole grain toast with avocado spread\\n- Scrambled eggs with spinach and tomatoes\\n- Glass of orange juice\\n\\nSnack:\\n- Greek yogurt with berries\\n\\nLunch:\\n- Grilled chicken salad with mixed greens, tomatoes, cucumbers, and balsamic vinaigrette\\n- Whole grain crackers with hummus\\n- Apple slices\\n\\nSnack:\\n- Carrots and celery sticks with almond butter\\n\\nDinner:\\n- Baked salmon with quinoa and steamed vegetables\\n- Glass of milk\\n\\nTuesday:\\nBreakfast:\\n- Oatmeal with almond milk, topped with nuts and dried fruit\\n- Hard-boiled egg\\n- Glass of green smoothie (spinach, banana, almond milk)\\n\\nSnack:\\n- Whole grain crackers with cheese\\n\\nLunch:\\n- Turkey and avocado wrap with whole grain tortilla\\n- Carrot and celery sticks with ranch dressing\\n- Orange slices\\n\\nSnack:\\n- Homemade trail mix (nuts, dried fruit, and dark chocolate chips)\\n\\nDinner:\\n- Grilled chicken breast with sweet potato and steamed broccoli\\n- Glass of water with lemon\\n\\nWednesday:\\nBreakfast:\\n- Whole grain waffles with peanut butter and banana slices\\n- Glass of milk\\n- Hard-bo', generation_info={'finish_reason': 'length', 'logprobs': None}), Generation(text='\\n\\nMonday:\\nBreakfast:\\n- Whole grain toast with avocado spread\\n- Scrambled eggs\\n- Fresh fruit (such as strawberries or blueberries)\\n- Glass of low-fat milk\\n\\nSnack:\\n- Greek yogurt with mixed nuts and berries\\n\\nLunch:\\n- Grilled chicken salad with mixed greens, tomatoes, cucumbers, and a light vinaigrette dressing\\n- Whole grain crackers with hummus\\n- Glass of water\\n\\nSnack:\\n- Apple slices with almond butter\\n\\nDinner:\\n- Baked salmon with quinoa and roasted vegetables (such as broccoli, carrots, and bell peppers)\\n- Glass of orange juice\\n\\nTuesday:\\nBreakfast:\\n- Oatmeal with almond milk, topped with sliced bananas and walnuts\\n- Hard-boiled egg\\n- Glass of low-fat milk\\n\\nSnack:\\n- Carrots and celery sticks with ranch dip\\n\\nLunch:\\n- Whole grain wrap with turkey, avocado, spinach, and tomato\\n- Side of fruit (such as grapes or an orange)\\n- Glass of water\\n\\nSnack:\\n- Whole grain crackers with cheese slices\\n\\nDinner:\\n- Grilled lean steak with roasted sweet potatoes and asparagus\\n- Glass of low-fat milk\\n\\nWednesday:\\nBreakfast:\\n- Whole grain waffles with', generation_info={'finish_reason': 'length', 'logprobs': None})]], llm_output={'token_usage': {'prompt_tokens': 17, 'total_tokens': 785, 'completion_tokens': 768}, 'model_name': 'gpt-3.5-turbo-instruct'}, run=[RunInfo(run_id=UUID('d8b55635-1d7c-45f0-bf7d-bcd8d9d3019d'))])"
      ]
     },
     "execution_count": 26,
     "metadata": {},
     "output_type": "execute_result"
    }
   ],
   "source": [
    "text_davinci_003 = OpenAI(temperature=0.4, n=3, best_of=3)\n",
    "response = text_davinci_003.generate([prompt.format(question=question)])\n",
    "response"
   ]
  },
  {
   "cell_type": "code",
   "execution_count": 27,
   "metadata": {
    "colab": {
     "base_uri": "https://localhost:8080/"
    },
    "id": "DqT6Z7l_w9WX",
    "outputId": "0eafc55a-6a99-4086-ba13-120337cabb9a"
   },
   "outputs": [
    {
     "name": "stdout",
     "output_type": "stream",
     "text": [
      "Generation 1\n",
      "\n",
      "Monday: Breakfast: - Whole grain toast with avocado spread and scrambled eggs - Fresh fruit salad\n",
      "(kiwi, berries, oranges) - Glass of milk or fortified orange juice  Snack: - Greek yogurt with honey\n",
      "and chopped nuts  Lunch: - Grilled chicken breast with quinoa and roasted vegetables (bell peppers,\n",
      "zucchini, carrots) - Small side salad with balsamic vinaigrette dressing  Snack: - Apple slices with\n",
      "almond butter  Dinner: - Baked salmon with brown rice and steamed broccoli - Glass of water with\n",
      "lemon  Tuesday: Breakfast: - Oatmeal with almond milk, topped with sliced bananas and chia seeds -\n",
      "Hard boiled egg - Glass of orange juice  Snack: - Hummus with whole wheat pita and sliced cucumbers\n",
      "Lunch: - Whole wheat wrap filled with grilled vegetables, black beans, and avocado - Side of fresh\n",
      "fruit (grapes, pineapple)  Snack: - Carrot sticks with ranch dip  Dinner: - Turkey meatloaf with\n",
      "sweet potato mash and steamed green beans - Glass of water with lemon  Wednesday: Breakfast: - Whole\n",
      "grain waffles with Greek yogurt and fresh berries - Glass of milk or\n",
      "\n",
      "Generation 2\n",
      "\n",
      "Monday: Breakfast: - Whole grain toast with avocado spread - Scrambled eggs with spinach and\n",
      "tomatoes - Glass of orange juice  Snack: - Greek yogurt with berries  Lunch: - Grilled chicken salad\n",
      "with mixed greens, tomatoes, cucumbers, and balsamic vinaigrette - Whole grain crackers with hummus\n",
      "- Apple slices  Snack: - Carrots and celery sticks with almond butter  Dinner: - Baked salmon with\n",
      "quinoa and steamed vegetables - Glass of milk  Tuesday: Breakfast: - Oatmeal with almond milk,\n",
      "topped with nuts and dried fruit - Hard-boiled egg - Glass of green smoothie (spinach, banana,\n",
      "almond milk)  Snack: - Whole grain crackers with cheese  Lunch: - Turkey and avocado wrap with whole\n",
      "grain tortilla - Carrot and celery sticks with ranch dressing - Orange slices  Snack: - Homemade\n",
      "trail mix (nuts, dried fruit, and dark chocolate chips)  Dinner: - Grilled chicken breast with sweet\n",
      "potato and steamed broccoli - Glass of water with lemon  Wednesday: Breakfast: - Whole grain waffles\n",
      "with peanut butter and banana slices - Glass of milk - Hard-bo\n",
      "\n",
      "Generation 3\n",
      "\n",
      "Monday: Breakfast: - Whole grain toast with avocado spread - Scrambled eggs - Fresh fruit (such as\n",
      "strawberries or blueberries) - Glass of low-fat milk  Snack: - Greek yogurt with mixed nuts and\n",
      "berries  Lunch: - Grilled chicken salad with mixed greens, tomatoes, cucumbers, and a light\n",
      "vinaigrette dressing - Whole grain crackers with hummus - Glass of water  Snack: - Apple slices with\n",
      "almond butter  Dinner: - Baked salmon with quinoa and roasted vegetables (such as broccoli, carrots,\n",
      "and bell peppers) - Glass of orange juice  Tuesday: Breakfast: - Oatmeal with almond milk, topped\n",
      "with sliced bananas and walnuts - Hard-boiled egg - Glass of low-fat milk  Snack: - Carrots and\n",
      "celery sticks with ranch dip  Lunch: - Whole grain wrap with turkey, avocado, spinach, and tomato -\n",
      "Side of fruit (such as grapes or an orange) - Glass of water  Snack: - Whole grain crackers with\n",
      "cheese slices  Dinner: - Grilled lean steak with roasted sweet potatoes and asparagus - Glass of\n",
      "low-fat milk  Wednesday: Breakfast: - Whole grain waffles with\n",
      "\n"
     ]
    }
   ],
   "source": [
    "for i, generation in enumerate(response.generations[0]):\n",
    "    print(f\"Generation {i + 1}\\n\")\n",
    "    print_response(generation.text.strip())\n",
    "    print()"
   ]
  },
  {
   "cell_type": "markdown",
   "metadata": {
    "id": "S6hags8Fnh75"
   },
   "source": [
    "## Embeddings"
   ]
  },
  {
   "cell_type": "code",
   "execution_count": 28,
   "metadata": {
    "id": "nWIxm20k8g3H"
   },
   "outputs": [],
   "source": [
    "text = \"\"\"\n",
    "At the start of The Office, it was apparent that Dwight and Jim rarely got along. \n",
    "They were too competitive and too different of people to get along. \n",
    "But as the show goes on, time proves to be the one thing that holds Dwight and Jim together. \n",
    "They had been through too much as coworkers and friends to not give in to a friendship.\n",
    "\n",
    "Aside from the toxic (albeit hilarious) relationship between Michael and Toby, \n",
    "Dwight and Jim come in second place with the most destructive relationship. \n",
    "From pranking each other to being a part of each other's weddings, \n",
    "Jim and Dwight have been through the wringer as friends.\n",
    "\n",
    "The first season only touched the surface of Dwight and Jim’s friendship. \n",
    "Viewers saw how cutthroat they could be when Dwight stole Jim’s biggest sale of \n",
    "the year in ‘Diversity Day.’ Jim got revenge on Dwight, of course, in ‘Healthcare,’ \n",
    "when he made up various diseases that he and Pam had when Dwight asked for \n",
    "everyone’s medical history. By the end of the short season, Dwight shot his shot \n",
    "with Katy—the purse girl—but Jim was the one who ended up taking her home.\n",
    "\n",
    "Looking at the ups and downs of Dwight and Jim’s friendship, it’s surprising \n",
    "that Jim invited Dwight to his house party in ‘Email Survalience.’ But things \n",
    "get back to normal when Jim gave Dwight bad advice when it was announced that \n",
    "Dwight had to speak at a salesman convention. The advice Jim gave Dwight was in \n",
    "jest but it ended up working for Dwight in the end.\n",
    "\"\"\""
   ]
  },
  {
   "cell_type": "markdown",
   "metadata": {
    "id": "3MWCk_Oi99ST"
   },
   "source": [
    "source: https://screenrant.com/jim-halpert-dwight-schrute-friendship-timeline-the-office/#season-1-cutthroat-friends"
   ]
  },
  {
   "cell_type": "code",
   "execution_count": 29,
   "metadata": {
    "id": "c51cq8lF4tRu"
   },
   "outputs": [
    {
     "data": {
      "application/vnd.jupyter.widget-view+json": {
       "model_id": "32093aff53f24421b4087a92d6c0b381",
       "version_major": 2,
       "version_minor": 0
      },
      "text/plain": [
       "modules.json:   0%|          | 0.00/349 [00:00<?, ?B/s]"
      ]
     },
     "metadata": {},
     "output_type": "display_data"
    },
    {
     "data": {
      "application/vnd.jupyter.widget-view+json": {
       "model_id": "c27170ab9d894bd5b3336aef1f2cb209",
       "version_major": 2,
       "version_minor": 0
      },
      "text/plain": [
       "config_sentence_transformers.json:   0%|          | 0.00/116 [00:00<?, ?B/s]"
      ]
     },
     "metadata": {},
     "output_type": "display_data"
    },
    {
     "data": {
      "application/vnd.jupyter.widget-view+json": {
       "model_id": "21a8c5a4a761467797033a276851b221",
       "version_major": 2,
       "version_minor": 0
      },
      "text/plain": [
       "README.md:   0%|          | 0.00/10.6k [00:00<?, ?B/s]"
      ]
     },
     "metadata": {},
     "output_type": "display_data"
    },
    {
     "data": {
      "application/vnd.jupyter.widget-view+json": {
       "model_id": "9e58576b0efc4d998212fb7ef2c93064",
       "version_major": 2,
       "version_minor": 0
      },
      "text/plain": [
       "sentence_bert_config.json:   0%|          | 0.00/53.0 [00:00<?, ?B/s]"
      ]
     },
     "metadata": {},
     "output_type": "display_data"
    },
    {
     "data": {
      "application/vnd.jupyter.widget-view+json": {
       "model_id": "9e98c487806c460db9f489b00181a062",
       "version_major": 2,
       "version_minor": 0
      },
      "text/plain": [
       "config.json:   0%|          | 0.00/612 [00:00<?, ?B/s]"
      ]
     },
     "metadata": {},
     "output_type": "display_data"
    },
    {
     "data": {
      "application/vnd.jupyter.widget-view+json": {
       "model_id": "289e531cc9f041ac8ddd99569139ca51",
       "version_major": 2,
       "version_minor": 0
      },
      "text/plain": [
       "pytorch_model.bin:   0%|          | 0.00/90.9M [00:00<?, ?B/s]"
      ]
     },
     "metadata": {},
     "output_type": "display_data"
    },
    {
     "name": "stderr",
     "output_type": "stream",
     "text": [
      "Error while downloading from https://cdn-lfs.huggingface.co/sentence-transformers/all-MiniLM-L6-v2/c3a85f238711653950f6a79ece63eb0ea93d76f6a6284be04019c53733baf256?response-content-disposition=attachment%3B+filename*%3DUTF-8%27%27pytorch_model.bin%3B+filename%3D%22pytorch_model.bin%22%3B&response-content-type=application%2Foctet-stream&Expires=1707519091&Policy=eyJTdGF0ZW1lbnQiOlt7IkNvbmRpdGlvbiI6eyJEYXRlTGVzc1RoYW4iOnsiQVdTOkVwb2NoVGltZSI6MTcwNzUxOTA5MX19LCJSZXNvdXJjZSI6Imh0dHBzOi8vY2RuLWxmcy5odWdnaW5nZmFjZS5jby9zZW50ZW5jZS10cmFuc2Zvcm1lcnMvYWxsLU1pbmlMTS1MNi12Mi9jM2E4NWYyMzg3MTE2NTM5NTBmNmE3OWVjZTYzZWIwZWE5M2Q3NmY2YTYyODRiZTA0MDE5YzUzNzMzYmFmMjU2P3Jlc3BvbnNlLWNvbnRlbnQtZGlzcG9zaXRpb249KiZyZXNwb25zZS1jb250ZW50LXR5cGU9KiJ9XX0_&Signature=vqmAytYOBisGzh%7EQVmu7wh271KVPoGok6TgsR2vHG4lQwB6qo05kCmiAIWhvcIR0b%7EBP5eJ5Tp76K0KRruDUAEuG8W2y0vqco3-Ku1AhTHW%7EYkWRUcr0PrOvjRQ-MmGxyCNxDO7IIAE6S%7ELtbfwghm5jGEb0NTwRhWIrl2pMBTB-P8SAIwnLAlQ5qZ6uKFpsQAuj1qp6tMFdGl68X9o-IhTEqRmfuJxNqB0WGSgpe%7EmVrmw%7EE8CRFktB6rYL0hUQ7wgYbwhWHQxliRkVHzL1wJX3ytYhJwfzo7EwQTWZ0b3b%7E-jUt9eyH-eO7H7%7EfrIyRzu458OwZvA1zoqkxReGAQ__&Key-Pair-Id=KVTP0A1DKRTAX: HTTPSConnectionPool(host='cdn-lfs.huggingface.co', port=443): Read timed out.\n",
      "Trying to resume download...\n"
     ]
    },
    {
     "data": {
      "application/vnd.jupyter.widget-view+json": {
       "model_id": "1e7d14f185454f47aa5dda26592ff8f4",
       "version_major": 2,
       "version_minor": 0
      },
      "text/plain": [
       "pytorch_model.bin:  46%|####6     | 41.9M/90.9M [00:00<?, ?B/s]"
      ]
     },
     "metadata": {},
     "output_type": "display_data"
    },
    {
     "data": {
      "application/vnd.jupyter.widget-view+json": {
       "model_id": "b0ec8e47b75f4144abd4190fe0b3a2eb",
       "version_major": 2,
       "version_minor": 0
      },
      "text/plain": [
       "tokenizer_config.json:   0%|          | 0.00/350 [00:00<?, ?B/s]"
      ]
     },
     "metadata": {},
     "output_type": "display_data"
    },
    {
     "data": {
      "application/vnd.jupyter.widget-view+json": {
       "model_id": "735684d31bb74efda68cd9c8ac6da582",
       "version_major": 2,
       "version_minor": 0
      },
      "text/plain": [
       "vocab.txt:   0%|          | 0.00/232k [00:00<?, ?B/s]"
      ]
     },
     "metadata": {},
     "output_type": "display_data"
    },
    {
     "data": {
      "application/vnd.jupyter.widget-view+json": {
       "model_id": "aeb12d8300d1439a87b3faa524b488f8",
       "version_major": 2,
       "version_minor": 0
      },
      "text/plain": [
       "tokenizer.json:   0%|          | 0.00/466k [00:00<?, ?B/s]"
      ]
     },
     "metadata": {},
     "output_type": "display_data"
    },
    {
     "data": {
      "application/vnd.jupyter.widget-view+json": {
       "model_id": "e93b99a9ea3d4ca2b40466a7cdf4158f",
       "version_major": 2,
       "version_minor": 0
      },
      "text/plain": [
       "special_tokens_map.json:   0%|          | 0.00/112 [00:00<?, ?B/s]"
      ]
     },
     "metadata": {},
     "output_type": "display_data"
    },
    {
     "data": {
      "application/vnd.jupyter.widget-view+json": {
       "model_id": "7c6baaf4729b49358c6de950fb86ea59",
       "version_major": 2,
       "version_minor": 0
      },
      "text/plain": [
       "1_Pooling/config.json:   0%|          | 0.00/190 [00:00<?, ?B/s]"
      ]
     },
     "metadata": {},
     "output_type": "display_data"
    }
   ],
   "source": [
    "model_name = \"sentence-transformers/all-MiniLM-L6-v2\"\n",
    "hf_embeddings = HuggingFaceEmbeddings(model_name=model_name)"
   ]
  },
  {
   "cell_type": "code",
   "execution_count": 30,
   "metadata": {
    "id": "A1bwHEOgABm2"
   },
   "outputs": [],
   "source": [
    "embedding = hf_embeddings.embed_query(text)"
   ]
  },
  {
   "cell_type": "code",
   "execution_count": 31,
   "metadata": {
    "colab": {
     "base_uri": "https://localhost:8080/"
    },
    "id": "idVDd30QA7eF",
    "outputId": "8f915cfa-8a39-4b73-c978-672d0b0b4a87"
   },
   "outputs": [
    {
     "data": {
      "text/plain": [
       "384"
      ]
     },
     "execution_count": 31,
     "metadata": {},
     "output_type": "execute_result"
    }
   ],
   "source": [
    "len(embedding)"
   ]
  },
  {
   "cell_type": "code",
   "execution_count": 32,
   "metadata": {
    "colab": {
     "base_uri": "https://localhost:8080/"
    },
    "id": "A7-MPoq7AS1j",
    "outputId": "483ddc8a-b5f3-4a22-a85d-0487fa09df26"
   },
   "outputs": [
    {
     "data": {
      "text/plain": [
       "[-0.1361340433359146,\n",
       " 0.03486044332385063,\n",
       " 0.050754666328430176,\n",
       " -0.06413129717111588,\n",
       " -0.05491666495800018]"
      ]
     },
     "execution_count": 32,
     "metadata": {},
     "output_type": "execute_result"
    }
   ],
   "source": [
    "embedding[:5]"
   ]
  },
  {
   "cell_type": "code",
   "execution_count": 33,
   "metadata": {
    "id": "HMw_cllUC6G3"
   },
   "outputs": [],
   "source": [
    "openai_embeddings = OpenAIEmbeddings()"
   ]
  },
  {
   "cell_type": "code",
   "execution_count": 34,
   "metadata": {
    "id": "aJ1EULcREQJL"
   },
   "outputs": [],
   "source": [
    "embedding = openai_embeddings.embed_query(text)"
   ]
  },
  {
   "cell_type": "code",
   "execution_count": 35,
   "metadata": {
    "colab": {
     "base_uri": "https://localhost:8080/"
    },
    "id": "NqcTUvn2ESw0",
    "outputId": "3f5b27f9-df12-4a32-fd64-fbf8041b2c8a"
   },
   "outputs": [
    {
     "data": {
      "text/plain": [
       "1536"
      ]
     },
     "execution_count": 35,
     "metadata": {},
     "output_type": "execute_result"
    }
   ],
   "source": [
    "len(embedding)"
   ]
  },
  {
   "cell_type": "code",
   "execution_count": 46,
   "metadata": {
    "colab": {
     "base_uri": "https://localhost:8080/"
    },
    "id": "neTDcJClEULN",
    "outputId": "33e7ce36-e70f-42e4-9703-1c1a8c75554c"
   },
   "outputs": [
    {
     "data": {
      "text/plain": [
       "[-0.01814699370231159,\n",
       " -0.013020798642834074,\n",
       " 0.024346111489793782,\n",
       " -0.033644788171017063,\n",
       " 0.0029091483623929935]"
      ]
     },
     "execution_count": 46,
     "metadata": {},
     "output_type": "execute_result"
    }
   ],
   "source": [
    "embedding[:5]"
   ]
  },
  {
   "cell_type": "markdown",
   "metadata": {
    "id": "eBw8tFfbnjU9"
   },
   "source": [
    "## Chat Models"
   ]
  },
  {
   "cell_type": "code",
   "execution_count": 37,
   "metadata": {
    "colab": {
     "base_uri": "https://localhost:8080/"
    },
    "id": "W_JSys2F0z-V",
    "outputId": "d1dedd85-a614-4bec-d7d6-de4d14adc6c6"
   },
   "outputs": [
    {
     "data": {
      "text/plain": [
       "AIMessage(content=\"Jim and Dwight have a complex relationship throughout the TV show The Office. Initially, they are portrayed as rivals, with Jim often pranking Dwight and finding amusement in his eccentricities. Dwight, on the other hand, is constantly trying to outdo Jim and prove himself as the superior employee.\\n\\nHowever, as the series progresses, their relationship evolves. They develop a begrudging respect for each other and occasionally work together on various projects. Jim also becomes more protective of Dwight, particularly when it comes to their shared workplace and colleagues.\\n\\nDespite their differences, Jim and Dwight also share moments of genuine friendship and understanding. They occasionally bond over shared interests, and Dwight even acts as Jim's best man at his wedding. Overall, their relationship is a mix of rivalry, friendship, and mutual respect, making them one of the most iconic duos in the show.\")"
      ]
     },
     "execution_count": 37,
     "metadata": {},
     "output_type": "execute_result"
    }
   ],
   "source": [
    "chat_gpt = ChatOpenAI(temperature=0, model_name=\"gpt-3.5-turbo\")\n",
    "\n",
    "question = (\n",
    "    \"What is the relationship between Jim and Dwight from the TV show The Office?\"\n",
    ")\n",
    "\n",
    "response = chat_gpt.invoke([HumanMessage(content=question)])\n",
    "response"
   ]
  },
  {
   "cell_type": "code",
   "execution_count": 38,
   "metadata": {
    "colab": {
     "base_uri": "https://localhost:8080/"
    },
    "id": "8ZS6U3g83V1T",
    "outputId": "5427070b-b5cf-41d0-ab4c-221e69b7a264"
   },
   "outputs": [
    {
     "name": "stdout",
     "output_type": "stream",
     "text": [
      "Jim and Dwight have a complex relationship throughout the TV show The Office. Initially, they are\n",
      "portrayed as rivals, with Jim often pranking Dwight and finding amusement in his eccentricities.\n",
      "Dwight, on the other hand, is constantly trying to outdo Jim and prove himself as the superior\n",
      "employee.  However, as the series progresses, their relationship evolves. They develop a begrudging\n",
      "respect for each other and occasionally work together on various projects. Jim also becomes more\n",
      "protective of Dwight, particularly when it comes to their shared workplace and colleagues.  Despite\n",
      "their differences, Jim and Dwight also share moments of genuine friendship and understanding. They\n",
      "occasionally bond over shared interests, and Dwight even acts as Jim's best man at his wedding.\n",
      "Overall, their relationship is a mix of rivalry, friendship, and mutual respect, making them one of\n",
      "the most iconic duos in the show.\n"
     ]
    }
   ],
   "source": [
    "print_response(response.content)"
   ]
  },
  {
   "cell_type": "code",
   "execution_count": 39,
   "metadata": {
    "colab": {
     "base_uri": "https://localhost:8080/"
    },
    "id": "JKZpA5076utE",
    "outputId": "7aba26c5-38d2-474e-9a14-899971fc1a00"
   },
   "outputs": [
    {
     "name": "stdout",
     "output_type": "stream",
     "text": [
      "The relationship between Jim Halpert and Dwight Schrute on The Office is a complex one that evolves\n",
      "throughout the series. Initially, Jim and Dwight have a contentious relationship, with Jim often\n",
      "pranking and teasing Dwight, who takes his job very seriously as the Assistant to the Regional\n",
      "Manager. These pranks, such as putting Dwight's stapler in Jello or impersonating him, become a\n",
      "recurring theme throughout the show.  However, as the series progresses, Jim and Dwight's\n",
      "relationship becomes more nuanced. They develop a sort of begrudging respect for each other, and\n",
      "occasionally even team up against common enemies or for mutual benefit. They have moments of\n",
      "camaraderie and understanding, particularly when they find themselves in unusual situations or\n",
      "facing challenges together.  Despite their differences, Jim and Dwight also share moments of genuine\n",
      "friendship and support. Jim is often there to offer advice or encouragement to Dwight, and Dwight\n",
      "occasionally shows a softer side towards Jim. They even become co-managers at one point, which leads\n",
      "to a deeper understanding of each other's strengths and weaknesses.  Overall, Jim and Dwight's\n",
      "relationship is a mix of rivalry, pranks, respect, and occasional friendship, making it one of the\n",
      "most memorable dynamics on The Office.\n"
     ]
    }
   ],
   "source": [
    "messages = [\n",
    "    SystemMessage(content=\"You're an expert on the TV show The Office.\"),\n",
    "    HumanMessage(content=\"What is the relationship between Jim and Dwight?\"),\n",
    "]\n",
    "response = chat_gpt(messages)\n",
    "print_response(response.content)"
   ]
  },
  {
   "cell_type": "markdown",
   "metadata": {
    "id": "1hzOvXG2BuKK"
   },
   "source": [
    "### Use Prompt Templates"
   ]
  },
  {
   "cell_type": "code",
   "execution_count": 40,
   "metadata": {
    "id": "XJVU85rw_gLN"
   },
   "outputs": [],
   "source": [
    "question = \"What is the relationship between Jim and Dwight?\""
   ]
  },
  {
   "cell_type": "code",
   "execution_count": 41,
   "metadata": {
    "colab": {
     "base_uri": "https://localhost:8080/"
    },
    "id": "KyKnebZo7YIr",
    "outputId": "acffec30-48af-4fd5-97ca-23ce05e029b1"
   },
   "outputs": [
    {
     "data": {
      "text/plain": [
       "[SystemMessage(content=\"You're an expert on the TV show The Office. You reply in thoughtful and philosophical manner.\"),\n",
       " HumanMessage(content='What is the relationship between Jim and Dwight?')]"
      ]
     },
     "execution_count": 41,
     "metadata": {},
     "output_type": "execute_result"
    }
   ],
   "source": [
    "system_template = \"You're an expert on the TV show The Office. You {style}.\"\n",
    "system_message_prompt = SystemMessagePromptTemplate.from_template(system_template)\n",
    "human_template = \"{question}\"\n",
    "human_message_prompt = HumanMessagePromptTemplate.from_template(human_template)\n",
    "chat_prompt = ChatPromptTemplate.from_messages(\n",
    "    [system_message_prompt, human_message_prompt]\n",
    ")\n",
    "chat_prompt.format_prompt(\n",
    "    style=\"reply in thoughtful and philosophical manner\", question=question\n",
    ").to_messages()"
   ]
  },
  {
   "cell_type": "code",
   "execution_count": 42,
   "metadata": {
    "colab": {
     "base_uri": "https://localhost:8080/"
    },
    "id": "6uFoOywx9ry6",
    "outputId": "75b61cee-ee32-4eaf-e963-bceaa1fed6c2"
   },
   "outputs": [
    {
     "name": "stdout",
     "output_type": "stream",
     "text": [
      "The relationship between Jim and Dwight on The Office is a fascinating exploration of the\n",
      "complexities of human connection. At first glance, one might perceive them as mere adversaries,\n",
      "constantly engaged in a battle of wits and pranks. However, upon closer examination, their dynamic\n",
      "reveals a deeper and more nuanced bond.  Jim and Dwight's relationship can be seen as a reflection\n",
      "of the yin and yang concept, where two seemingly opposing forces find balance and harmony within\n",
      "each other. They are two sides of the same coin, representing contrasting personalities and\n",
      "approaches to life. Jim, with his laid-back and playful nature, serves as a foil to Dwight's intense\n",
      "and rule-oriented demeanor.  Despite their differences, there is an undeniable mutual respect that\n",
      "underlies their interactions. They push each other to be better versions of themselves, challenging\n",
      "each other's beliefs and pushing the boundaries of their comfort zones. In a way, they serve as\n",
      "mirrors, reflecting back the strengths and weaknesses of the other.  Beneath the surface-level\n",
      "pranks and banter, there are moments of genuine connection and understanding between Jim and Dwight.\n",
      "They have shared experiences that create a bond, such as their time working together at Dunder\n",
      "Mifflin and their involvement in the office's various shenanigans. These shared experiences, however\n",
      "unconventional, foster a sense of camaraderie and a shared history.  Ultimately, the relationship\n",
      "between Jim and Dwight is a testament to the complexity of human relationships. It reminds us that\n",
      "even in the most unlikely of pairings, there is potential for growth, understanding, and even\n",
      "friendship. Their interactions serve as a reminder that we can find common ground with those who may\n",
      "seem vastly different from us, and that true connection can be found in the most unexpected places.\n"
     ]
    }
   ],
   "source": [
    "messages = chat_prompt.format_prompt(\n",
    "    style=\"reply in thoughtful and philosophical manner\", question=question\n",
    ").to_messages()\n",
    "response = chat_gpt(messages)\n",
    "print_response(response.content)"
   ]
  },
  {
   "cell_type": "code",
   "execution_count": 43,
   "metadata": {
    "colab": {
     "base_uri": "https://localhost:8080/"
    },
    "id": "KlFYU1ul_u38",
    "outputId": "62f9d0cb-20d1-42fe-9428-ea9e5c83606c"
   },
   "outputs": [
    {
     "name": "stdout",
     "output_type": "stream",
     "text": [
      "Oh, Jim and Dwight? They're practically soulmates! They have this beautiful, unbreakable bond built\n",
      "on mutual love and respect. I mean, who wouldn't want to be best friends with someone who constantly\n",
      "pranks them and steals their stapler? It's a match made in heaven, really.\n"
     ]
    }
   ],
   "source": [
    "messages = chat_prompt.format_prompt(\n",
    "    style=\"reply in sarcastic and outrageous manner\", question=question\n",
    ").to_messages()\n",
    "response = chat_gpt(messages)\n",
    "print_response(response.content)"
   ]
  },
  {
   "cell_type": "markdown",
   "metadata": {
    "id": "F7hPGtspCBJB"
   },
   "source": [
    "### Streaming"
   ]
  },
  {
   "cell_type": "code",
   "execution_count": 45,
   "metadata": {
    "id": "xQlTm25QCB6M"
   },
   "outputs": [],
   "source": [
    "streaming_chat_gpt = ChatOpenAI(\n",
    "    streaming=True,\n",
    "    callback_manager=AsyncCallbackManager([StreamingStdOutCallbackHandler()]),\n",
    "    temperature=0,\n",
    "    verbose=True,\n",
    ")"
   ]
  },
  {
   "cell_type": "code",
   "execution_count": 46,
   "metadata": {
    "colab": {
     "base_uri": "https://localhost:8080/"
    },
    "id": "iEKSwjTSCHge",
    "outputId": "366db3c1-e2da-41fe-a953-1b60a63e8787"
   },
   "outputs": [
    {
     "name": "stdout",
     "output_type": "stream",
     "text": [
      "Oh, Jim and Dwight? They're practically soulmates! They have this beautiful, unbreakable bond built on mutual love and respect. I mean, who wouldn't want to be best friends with someone who constantly pranks them and steals their stapler? It's a match made in heaven, really."
     ]
    }
   ],
   "source": [
    "messages = chat_prompt.format_prompt(\n",
    "    style=\"reply in sarcastic and outrageous manner\", question=question\n",
    ").to_messages()\n",
    "response = streaming_chat_gpt(messages)"
   ]
  }
 ],
 "metadata": {
  "colab": {
   "provenance": []
  },
  "kernelspec": {
   "display_name": "Python 3 (ipykernel)",
   "language": "python",
   "name": "python3"
  },
  "language_info": {
   "codemirror_mode": {
    "name": "ipython",
    "version": 3
   },
   "file_extension": ".py",
   "mimetype": "text/x-python",
   "name": "python",
   "nbconvert_exporter": "python",
   "pygments_lexer": "ipython3",
   "version": "3.11.5"
  }
 },
 "nbformat": 4,
 "nbformat_minor": 4
}
