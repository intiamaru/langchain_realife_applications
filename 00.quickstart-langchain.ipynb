{
 "cells": [
  {
   "cell_type": "code",
   "execution_count": 30,
   "metadata": {
    "id": "4OIZC5EaIYY_"
   },
   "outputs": [],
   "source": [
    "!pip install -Uqqq pip\n",
    "!pip install -qqq langchain==0.1.5\n",
    "!pip install -qqq openai==1.11.1\n",
    "!pip install -Uqqq watermark==2.4.3\n",
    "!pip install -Uqqq chromadb==0.4.22 \n",
    "!pip install -Uqqq tiktoken==0.5.2 \n",
    "!pip install -Uqqq langchain-openai==0.0.5"
   ]
  },
  {
   "cell_type": "code",
   "execution_count": 31,
   "metadata": {
    "id": "qQ-YYVMCKbYf"
   },
   "outputs": [
    {
     "name": "stdout",
     "output_type": "stream",
     "text": [
      "The watermark extension is already loaded. To reload it, use:\n",
      "  %reload_ext watermark\n"
     ]
    }
   ],
   "source": [
    "%load_ext watermark"
   ]
  },
  {
   "cell_type": "code",
   "execution_count": 35,
   "metadata": {
    "id": "htp4LNX0KOtb"
   },
   "outputs": [],
   "source": [
    "import os\n",
    "import textwrap\n",
    "\n",
    "import chromadb\n",
    "import langchain\n",
    "import openai\n",
    "from langchain.chains import RetrievalQA\n",
    "from langchain.document_loaders import WebBaseLoader\n",
    "from langchain_openai import ChatOpenAI\n",
    "from langchain_openai import OpenAIEmbeddings\n",
    "from langchain_openai import OpenAI\n",
    "from langchain.indexes import VectorstoreIndexCreator\n",
    "from langchain.prompts import PromptTemplate\n",
    "from langchain.vectorstores import Chroma\n",
    "from dotenv import load_dotenv"
   ]
  },
  {
   "cell_type": "code",
   "execution_count": 4,
   "metadata": {
    "colab": {
     "base_uri": "https://localhost:8080/"
    },
    "id": "TYgj1UZTKl17",
    "outputId": "01165430-c363-4e8d-cd6e-690a1e9363cc"
   },
   "outputs": [
    {
     "name": "stdout",
     "output_type": "stream",
     "text": [
      "Python implementation: CPython\n",
      "Python version       : 3.11.5\n",
      "IPython version      : 8.21.0\n",
      "\n",
      "Compiler    : Clang 14.0.0 (clang-1400.0.29.202)\n",
      "OS          : Darwin\n",
      "Release     : 21.6.0\n",
      "Machine     : x86_64\n",
      "Processor   : i386\n",
      "CPU cores   : 4\n",
      "Architecture: 64bit\n",
      "\n",
      "chromadb : 0.4.22\n",
      "langchain: 0.1.5\n",
      "openai   : 1.11.1\n",
      "\n"
     ]
    }
   ],
   "source": [
    "%watermark --iversions -v -m"
   ]
  },
  {
   "cell_type": "code",
   "execution_count": 5,
   "metadata": {
    "id": "STDwioZBj_pp"
   },
   "outputs": [],
   "source": [
    "def print_response(response: str):\n",
    "    print(\"\\n\".join(textwrap.wrap(response, width=100)))"
   ]
  },
  {
   "cell_type": "code",
   "execution_count": 6,
   "metadata": {
    "id": "p8f4eu1SKp4j"
   },
   "outputs": [],
   "source": []
  },
  {
   "cell_type": "code",
   "execution_count": 36,
   "metadata": {},
   "outputs": [
    {
     "data": {
      "text/plain": [
       "True"
      ]
     },
     "execution_count": 36,
     "metadata": {},
     "output_type": "execute_result"
    }
   ],
   "source": [
    "# os.environ[\"OPENAI_API_KEY\"] = \"your OPENAI API KEY\"\n",
    "# openai.api_key = os.getenv(\"OPENAI_API_KEY\")\n",
    "load_dotenv()"
   ]
  },
  {
   "cell_type": "code",
   "execution_count": 37,
   "metadata": {
    "id": "BA2qn63lLUc-"
   },
   "outputs": [],
   "source": [
    "model = OpenAI(temperature=0)"
   ]
  },
  {
   "cell_type": "code",
   "execution_count": 16,
   "metadata": {
    "colab": {
     "base_uri": "https://localhost:8080/"
    },
    "id": "1-rQ5ETGO0Q6",
    "outputId": "a1a550a5-15b3-4fb6-ca8f-4247a696e1f1"
   },
   "outputs": [
    {
     "name": "stdout",
     "output_type": "stream",
     "text": [
      "\n",
      "\n",
      "1. Dunder Mifflin Paper Company - This is the fictional paper company where you work in the show. While there isn't an actual Dunder Mifflin office in Scranton, you can visit the building that was used as the exterior shot for the office in the show.\n",
      "\n",
      "2. Poor Richard's Pub - This is the bar where you and your coworkers often go for drinks and karaoke. In real life, Poor Richard's is a popular bar and restaurant in Scranton that often hosts Office-themed events and trivia nights.\n",
      "\n",
      "3. Steamtown National Historic Site - This train museum was featured in the episode \"The Convention\" where you and your coworkers attend a paper convention. You can visit the museum and see the train cars used in the show.\n",
      "\n",
      "4. Lake Scranton - This is the lake where you and your coworkers go for a company picnic in the episode \"The Merger.\" You can visit the lake and have a picnic of your own, just like in the show.\n",
      "\n",
      "5. The Electric City sign - This iconic sign is featured in the opening credits of the show and is a must-see for any Office fan. You can take a picture with the sign and even buy merchandise with the famous phrase \"Welcome to Scranton: The\n"
     ]
    }
   ],
   "source": [
    "print(\n",
    "    model(\n",
    "        \"You're Dwight K. Schrute from the Office. Suggest 5 places to visit in Scranton that are connected to the TV show.\"\n",
    "    )\n",
    ")"
   ]
  },
  {
   "cell_type": "markdown",
   "metadata": {
    "id": "lfA_kFae3ROU"
   },
   "source": [
    "## Q&A Over a Document"
   ]
  },
  {
   "cell_type": "code",
   "execution_count": 10,
   "metadata": {
    "id": "DlJWvzaSVGwk"
   },
   "outputs": [],
   "source": [
    "loader = WebBaseLoader(\n",
    "    \"https://blog.twitter.com/engineering/en_us/topics/open-source/2023/twitter-recommendation-algorithm\"\n",
    ")"
   ]
  },
  {
   "cell_type": "code",
   "execution_count": 11,
   "metadata": {
    "colab": {
     "base_uri": "https://localhost:8080/"
    },
    "id": "0k2sQmZCVKRF",
    "outputId": "c46048ba-9ae2-4561-81fa-d53e5327ceb7"
   },
   "outputs": [
    {
     "data": {
      "text/plain": [
       "1"
      ]
     },
     "execution_count": 11,
     "metadata": {},
     "output_type": "execute_result"
    }
   ],
   "source": [
    "documents = loader.load()\n",
    "len(documents)"
   ]
  },
  {
   "cell_type": "code",
   "execution_count": 12,
   "metadata": {
    "colab": {
     "base_uri": "https://localhost:8080/"
    },
    "id": "334_cQoO4cZP",
    "outputId": "9c26612c-94d0-485d-c1a9-a24d89393339"
   },
   "outputs": [
    {
     "data": {
      "text/plain": [
       "dict_keys(['page_content', 'metadata', 'type'])"
      ]
     },
     "execution_count": 12,
     "metadata": {},
     "output_type": "execute_result"
    }
   ],
   "source": [
    "document = documents[0]\n",
    "document.__dict__.keys()"
   ]
  },
  {
   "cell_type": "code",
   "execution_count": 13,
   "metadata": {
    "colab": {
     "base_uri": "https://localhost:8080/",
     "height": 35
    },
    "id": "eHOdt3K_4x-E",
    "outputId": "17c01652-b06d-473e-daff-18b74831c44e"
   },
   "outputs": [
    {
     "data": {
      "text/plain": [
       "\"\\n\\n\\n\\n\\nTwitter's Recommendation Algorithm\\n\\n\\n\\n\\n\\n\\n\\n\\n\\n\\n\\n\\n\\n\\n\\n\\n\\n\\n\\n\\n\\n\\n\\n\\n\\n\\n\\n\\n\\n\\nEngineering\\n\\n\\n\\n\\n\\nBack\\n\\n\\n\\n\\n\\nEng\""
      ]
     },
     "execution_count": 13,
     "metadata": {},
     "output_type": "execute_result"
    }
   ],
   "source": [
    "document.page_content[:100]"
   ]
  },
  {
   "cell_type": "code",
   "execution_count": 14,
   "metadata": {
    "colab": {
     "base_uri": "https://localhost:8080/"
    },
    "id": "MxnizWE-4uzz",
    "outputId": "0de4c185-06f6-4e93-c88f-4fc14e3a225a"
   },
   "outputs": [
    {
     "data": {
      "text/plain": [
       "{'source': 'https://blog.twitter.com/engineering/en_us/topics/open-source/2023/twitter-recommendation-algorithm',\n",
       " 'title': \"Twitter's Recommendation Algorithm\",\n",
       " 'description': 'Twitter aims to deliver you the best of what’s happening in the world right now. This blog is an introduction to how the algorithm selects Tweets for your timeline.',\n",
       " 'language': 'en-us'}"
      ]
     },
     "execution_count": 14,
     "metadata": {},
     "output_type": "execute_result"
    }
   ],
   "source": [
    "document.metadata"
   ]
  },
  {
   "cell_type": "code",
   "execution_count": 17,
   "metadata": {
    "colab": {
     "base_uri": "https://localhost:8080/"
    },
    "id": "dNk8kGhDa3GR",
    "outputId": "0f14832b-ec0e-4263-96e1-752fabf757c2"
   },
   "outputs": [],
   "source": [
    "index = VectorstoreIndexCreator().from_loaders([loader])"
   ]
  },
  {
   "cell_type": "code",
   "execution_count": 18,
   "metadata": {
    "colab": {
     "base_uri": "https://localhost:8080/"
    },
    "id": "b-9FzImFchcH",
    "outputId": "064fa564-1d4c-4e4f-d589-6f86d1de61aa"
   },
   "outputs": [
    {
     "name": "stdout",
     "output_type": "stream",
     "text": [
      " 1. The Twitter recommendation algorithm is like Michael Scott trying to choose the best employee of\n",
      "the month - it has to sift through a lot of options to find the top ones. 2. Just like how Dwight\n",
      "Schrute uses his beet farm to supply Dunder Mifflin with beets, the algorithm uses interconnected\n",
      "services and jobs to recommend tweets. 3. The algorithm is like Jim Halpert's pranks - it's always\n",
      "changing and adapting to deliver the best tweets to your timeline. 4. Similar to how Pam Beesly's\n",
      "art is displayed in the office, the algorithm displays top tweets on your device's For You timeline.\n",
      "5. And just like how Creed Bratton's mysterious past is always a topic of discussion, the\n",
      "algorithm's inner workings are a bit of a mystery to most users.\n"
     ]
    }
   ],
   "source": [
    "query = \"\"\"\n",
    "You're Dwight K. Schrute from the Office.\n",
    "Explain the Twitter recommendation algorithm in 5 sentences using analogies from the Office.\n",
    "\"\"\"\n",
    "print_response(index.query(query))"
   ]
  },
  {
   "cell_type": "markdown",
   "metadata": {
    "id": "8sZR4jBD3eGs"
   },
   "source": [
    "### Using a Prompt Template"
   ]
  },
  {
   "cell_type": "code",
   "execution_count": 21,
   "metadata": {
    "colab": {
     "base_uri": "https://localhost:8080/"
    },
    "id": "oRptJsAvPNbF",
    "outputId": "7e632e2b-5a8c-46c2-cf36-59fba0a45cea"
   },
   "outputs": [
    {
     "name": "stdout",
     "output_type": "stream",
     "text": [
      "You're Dwight K. Schrute from the Office.\n",
      "\n",
      "Paper sells are declining 10% year over year.\n",
      "\n",
      "Answer with analogies from the Office to the question and the way Dwight speaks.\n",
      "\n",
      "Question: How to sell paper?\n",
      "Answer:\n"
     ]
    }
   ],
   "source": [
    "template = \"\"\"You're Dwight K. Schrute from the Office.\n",
    "\n",
    "{context}\n",
    "\n",
    "Answer with analogies from the Office to the question and the way Dwight speaks.\n",
    "\n",
    "Question: {question}\n",
    "Answer:\"\"\"\n",
    "\n",
    "prompt = PromptTemplate(template=template, input_variables=[\"context\", \"question\"])\n",
    "print(\n",
    "    prompt.format(\n",
    "        context=\"Paper sells are declining 10% year over year.\",\n",
    "        question=\"How to sell paper?\",\n",
    "    )\n",
    ")"
   ]
  },
  {
   "cell_type": "code",
   "execution_count": 22,
   "metadata": {
    "colab": {
     "base_uri": "https://localhost:8080/"
    },
    "id": "rXFpoKGbkvSn",
    "outputId": "9e0c4f83-44c3-4e5c-c35b-a3a2a45738d2"
   },
   "outputs": [],
   "source": [
    "embeddings = OpenAIEmbeddings()\n",
    "db = Chroma.from_documents(documents, embeddings)"
   ]
  },
  {
   "cell_type": "code",
   "execution_count": 24,
   "metadata": {
    "id": "3TjhORB7xEUp"
   },
   "outputs": [],
   "source": [
    "chain_type_kwargs = {\"prompt\": prompt}\n",
    "chain = RetrievalQA.from_chain_type(\n",
    "    llm=ChatOpenAI(temperature=0),\n",
    "    chain_type=\"stuff\",\n",
    "    retriever=db.as_retriever(search_kwargs={\"k\": 1}),\n",
    "    chain_type_kwargs=chain_type_kwargs,\n",
    ")"
   ]
  },
  {
   "cell_type": "code",
   "execution_count": 33,
   "metadata": {
    "id": "sfbQY893xbdY"
   },
   "outputs": [],
   "source": [
    "query = \"Explain the Twitter recommendation algorithm in 5 sentences\"\n",
    "response = chain.run(query)"
   ]
  },
  {
   "cell_type": "code",
   "execution_count": 34,
   "metadata": {
    "colab": {
     "base_uri": "https://localhost:8080/"
    },
    "id": "rT_8hNbP6mN1",
    "outputId": "2be2e3f0-8a31-4565-869d-4eb668b3a2bb"
   },
   "outputs": [
    {
     "name": "stdout",
     "output_type": "stream",
     "text": [
      "The Twitter recommendation algorithm is like a beet farm. It starts by gathering a bunch of\n",
      "potential tweets from different sources, like people you follow and people you don't follow. Then,\n",
      "it ranks these tweets based on their relevance using a fancy machine learning model. Next, it\n",
      "applies filters and heuristics to make sure you only see the best tweets, like filtering out NSFW\n",
      "content and tweets from users you've blocked. Finally, it mixes all these tweets together with other\n",
      "content, like ads and follow recommendations, and serves them up to your device. It's like a well-\n",
      "oiled machine, just like my beet farm.\n"
     ]
    }
   ],
   "source": [
    "print_response(response)"
   ]
  },
  {
   "cell_type": "markdown",
   "metadata": {
    "id": "FpikEA-s8RMw"
   },
   "source": [
    "## References\n",
    "\n",
    "- [Twitter's Recommendation Algorithm](https://blog.twitter.com/engineering/en_us/topics/open-source/2023/twitter-recommendation-algorithm)"
   ]
  }
 ],
 "metadata": {
  "colab": {
   "provenance": []
  },
  "kernelspec": {
   "display_name": "Python 3 (ipykernel)",
   "language": "python",
   "name": "python3"
  },
  "language_info": {
   "codemirror_mode": {
    "name": "ipython",
    "version": 3
   },
   "file_extension": ".py",
   "mimetype": "text/x-python",
   "name": "python",
   "nbconvert_exporter": "python",
   "pygments_lexer": "ipython3",
   "version": "3.11.5"
  }
 },
 "nbformat": 4,
 "nbformat_minor": 4
}
