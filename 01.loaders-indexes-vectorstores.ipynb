{
 "cells": [
  {
   "cell_type": "code",
   "execution_count": 4,
   "metadata": {
    "id": "UR_uNtd16RlC"
   },
   "outputs": [],
   "source": [
    "!pip install -Uqqq pip\n",
    "!pip install -qqq langchain==0.1.5\n",
    "!pip install -qqq openai==1.11.1\n",
    "!pip install -Uqqq watermark==2.4.3\n",
    "!pip install -Uqqq chromadb==0.4.22 \n",
    "!pip install -Uqqq tiktoken==0.5.2 \n",
    "!pip install -Uqqq langchain-openai==0.0.5\n"
   ]
  },
  {
   "cell_type": "code",
   "execution_count": 7,
   "metadata": {
    "id": "UR_uNtd16RlC"
   },
   "outputs": [],
   "source": [
    "!pip install -Uqqq youtube-transcript-api==0.6.2 \n",
    "!pip install -Uqqq pytube==15.0.0\n",
    "!pip install -Uqqq unstructured[local-inference]==0.12.3 \n",
    "!pip install -Uqqq gdown\n",
    "# !pip install -Uqqq ipywidgets widgetsnbextension\n",
    "!pip install -Uqqq sentence-transformers"
   ]
  },
  {
   "cell_type": "code",
   "execution_count": 19,
   "metadata": {
    "id": "qWD240smBU6z"
   },
   "outputs": [],
   "source": [
    "import os\n",
    "import textwrap\n",
    "\n",
    "import chromadb\n",
    "import langchain\n",
    "import openai\n",
    "from langchain.chains import RetrievalQA\n",
    "from langchain_openai import ChatOpenAI\n",
    "from langchain_openai import OpenAIEmbeddings\n",
    "from langchain_openai import OpenAI\n",
    "from langchain.document_loaders import TextLoader, UnstructuredPDFLoader, YoutubeLoader\n",
    "from langchain.embeddings import HuggingFaceEmbeddings\n",
    "from langchain.indexes import VectorstoreIndexCreator\n",
    "from langchain.text_splitter import RecursiveCharacterTextSplitter\n",
    "from langchain.vectorstores import Chroma\n",
    "from dotenv import load_dotenv"
   ]
  },
  {
   "cell_type": "code",
   "execution_count": 10,
   "metadata": {
    "colab": {
     "base_uri": "https://localhost:8080/"
    },
    "id": "3FFyV3BNBSnd",
    "outputId": "24e25ebc-ba5c-445c-ff71-95658117db2e"
   },
   "outputs": [
    {
     "name": "stdout",
     "output_type": "stream",
     "text": [
      "Python implementation: CPython\n",
      "Python version       : 3.11.5\n",
      "IPython version      : 8.21.0\n",
      "\n",
      "Compiler    : Clang 14.0.0 (clang-1400.0.29.202)\n",
      "OS          : Darwin\n",
      "Release     : 21.6.0\n",
      "Machine     : x86_64\n",
      "Processor   : i386\n",
      "CPU cores   : 4\n",
      "Architecture: 64bit\n",
      "\n",
      "chromadb : 0.4.22\n",
      "openai   : 1.11.1\n",
      "langchain: 0.1.5\n",
      "\n"
     ]
    }
   ],
   "source": [
    "%load_ext watermark\n",
    "%watermark --iversions -v -m"
   ]
  },
  {
   "cell_type": "code",
   "execution_count": 11,
   "metadata": {
    "id": "GUqPyc20MxUh"
   },
   "outputs": [],
   "source": [
    "def print_response(response: str):\n",
    "    print(\"\\n\".join(textwrap.wrap(response, width=100)))"
   ]
  },
  {
   "cell_type": "code",
   "execution_count": 13,
   "metadata": {
    "id": "C-6WIHwKJ-ev"
   },
   "outputs": [
    {
     "data": {
      "text/plain": [
       "True"
      ]
     },
     "execution_count": 13,
     "metadata": {},
     "output_type": "execute_result"
    }
   ],
   "source": [
    "# os.environ[\"OPENAI_API_KEY\"] = \"your OPENAI API KEY\"\n",
    "# openai.api_key = os.getenv(\"OPENAI_API_KEY\")\n",
    "load_dotenv()"
   ]
  },
  {
   "cell_type": "code",
   "execution_count": 16,
   "metadata": {
    "colab": {
     "base_uri": "https://localhost:8080/"
    },
    "id": "IV7etHSwC4jm",
    "outputId": "d1cbc8dc-138e-4a32-836b-1d964f69fa0e"
   },
   "outputs": [
    {
     "name": "stdout",
     "output_type": "stream",
     "text": [
      "Downloading...\n",
      "From: https://drive.google.com/uc?id=1eetuan04uj9-QKu_Vok2mbSK23G0H7yN\n",
      "To: /Users/jorgeboneu/code/projects/langchain_realife_applications/the-need-to-read.txt\n",
      "100%|██████████████████████████████████████| 2.44k/2.44k [00:00<00:00, 5.58MB/s]\n",
      "Downloading...\n",
      "From: https://drive.google.com/uc?id=1MVIhlCJS5RjVDy_s93Jb4vkHt6jAmgaa\n",
      "To: /Users/jorgeboneu/code/projects/langchain_realife_applications/Andrej_Karpathy_Resume.pdf\n",
      "100%|███████████████████████████████████████| 46.9k/46.9k [00:00<00:00, 620kB/s]\n"
     ]
    }
   ],
   "source": [
    "!gdown 1eetuan04uj9-QKu_Vok2mbSK23G0H7yN\n",
    "!gdown 1MVIhlCJS5RjVDy_s93Jb4vkHt6jAmgaa"
   ]
  },
  {
   "cell_type": "code",
   "execution_count": 17,
   "metadata": {
    "id": "O9URGZ4EJs8p"
   },
   "outputs": [],
   "source": [
    "txt_loader = TextLoader(\"./the-need-to-read.txt\", encoding=\"utf8\")"
   ]
  },
  {
   "cell_type": "code",
   "execution_count": 20,
   "metadata": {
    "colab": {
     "base_uri": "https://localhost:8080/"
    },
    "id": "buDonlV1J5uT",
    "outputId": "2e8f4563-d085-4525-c562-87ee470625fa"
   },
   "outputs": [],
   "source": [
    "index = VectorstoreIndexCreator().from_loaders([txt_loader])"
   ]
  },
  {
   "cell_type": "code",
   "execution_count": 21,
   "metadata": {
    "colab": {
     "base_uri": "https://localhost:8080/"
    },
    "id": "W3Z7djTcMBJz",
    "outputId": "22794e99-0516-44b1-f8a9-f16f0ca916aa"
   },
   "outputs": [
    {
     "data": {
      "text/plain": [
       "{'question': 'Why someone in todays world would read? Answer in 3 sentences.',\n",
       " 'answer': \" People in today's world would read to improve their thinking and writing skills, as well as to gain new ideas and knowledge. Reading is essential for developing critical thinking and communication skills, and it allows individuals to access a wide range of information and perspectives. \",\n",
       " 'sources': './the-need-to-read.txt'}"
      ]
     },
     "execution_count": 21,
     "metadata": {},
     "output_type": "execute_result"
    }
   ],
   "source": [
    "query = \"Why someone in todays world would read? Answer in 3 sentences.\"\n",
    "result = index.query_with_sources(query)\n",
    "result"
   ]
  },
  {
   "cell_type": "code",
   "execution_count": 22,
   "metadata": {
    "colab": {
     "base_uri": "https://localhost:8080/"
    },
    "id": "wf0aLZD4MrDU",
    "outputId": "71e8cd56-72b6-417d-8360-dac56f678ef2"
   },
   "outputs": [
    {
     "name": "stdout",
     "output_type": "stream",
     "text": [
      " People in today's world would read to improve their thinking and writing skills, as well as to gain\n",
      "new ideas and knowledge. Reading is essential for developing critical thinking and communication\n",
      "skills, and it allows individuals to access a wide range of information and perspectives.\n"
     ]
    }
   ],
   "source": [
    "print_response(result[\"answer\"])"
   ]
  },
  {
   "cell_type": "markdown",
   "metadata": {
    "id": "oBPR2tNB7La6"
   },
   "source": [
    "## Loaders"
   ]
  },
  {
   "cell_type": "code",
   "execution_count": 23,
   "metadata": {
    "id": "TlIgJ0hsD1gX"
   },
   "outputs": [],
   "source": [
    "yt_loader = YoutubeLoader.from_youtube_url(\n",
    "    \"https://www.youtube.com/watch?v=n2uY3-2Goek\", add_video_info=True\n",
    ")"
   ]
  },
  {
   "cell_type": "code",
   "execution_count": 24,
   "metadata": {
    "colab": {
     "base_uri": "https://localhost:8080/"
    },
    "id": "Q626C3NND5fh",
    "outputId": "def93b6b-17f5-42a3-fdcf-8ec3b90f5063"
   },
   "outputs": [
    {
     "data": {
      "text/plain": [
       "[Document(page_content=\"you get more out of reading one book that's great five times than out of reading five mediocre books if your behavior doesn't change as a result of reading a book and it means you learn nothing which means it was a waste of time and many people who read books are just wasting their time because their behavior doesn't change and so I consolidate once I find something that's good I plug everything I possibly can into it and suck the juice out of it so that I can change my behavior as a result which comes from the Frameworks and how I think about it so I read one thing that's very good many times rather than trying to brag about the fact that I read a book a week because I'm like what was the book last week not that good that it wasn't worth rereading\", metadata={'source': 'n2uY3-2Goek', 'title': 'How to get the most out of reading', 'description': 'Unknown', 'view_count': 41498, 'thumbnail_url': 'https://i.ytimg.com/vi/n2uY3-2Goek/hq720_2.jpg?sqp=-oaymwEoCIAKENAF8quKqQMcGADwAQH4Ac4FgAKACooCDAgAEAEYQCBCKHIwDw==&rs=AOn4CLBosqfyEb4QbqVlNwc8pUO7KwdVFw', 'publish_date': '2022-11-15 00:00:00', 'length': 33, 'author': 'Alex Hormozi'})]"
      ]
     },
     "execution_count": 24,
     "metadata": {},
     "output_type": "execute_result"
    }
   ],
   "source": [
    "yt_documents = yt_loader.load()\n",
    "yt_documents"
   ]
  },
  {
   "cell_type": "code",
   "execution_count": 25,
   "metadata": {
    "colab": {
     "base_uri": "https://localhost:8080/",
     "height": 125
    },
    "id": "Ca9PaoBUECde",
    "outputId": "d63ad7b5-1252-4961-9464-1a9f58d69008"
   },
   "outputs": [
    {
     "data": {
      "text/plain": [
       "\"you get more out of reading one book that's great five times than out of reading five mediocre books if your behavior doesn't change as a result of reading a book and it means you learn nothing which means it was a waste of time and many people who read books are just wasting their time because their behavior doesn't change and so I consolidate once I find something that's good I plug everything I possibly can into it and suck the juice out of it so that I can change my behavior as a result which comes from the Frameworks and how I think about it so I read one thing that's very good many times rather than trying to brag about the fact that I read a book a week because I'm like what was the book last week not that good that it wasn't worth rereading\""
      ]
     },
     "execution_count": 25,
     "metadata": {},
     "output_type": "execute_result"
    }
   ],
   "source": [
    "document = yt_documents[0]\n",
    "document.page_content"
   ]
  },
  {
   "cell_type": "code",
   "execution_count": 45,
   "metadata": {
    "colab": {
     "base_uri": "https://localhost:8080/"
    },
    "id": "062XoRf2Uhcp",
    "outputId": "5e733687-e107-4e27-bdac-52073b31c0ea"
   },
   "outputs": [],
   "source": [
    "# Use OnlinePDFLoade to load PDFs from the Internets\n",
    "pdf_loader = UnstructuredPDFLoader(\"./Andrej_Karpathy_Resume.pdf\")\n",
    "pdf_pages = pdf_loader.load_and_split()"
   ]
  },
  {
   "cell_type": "code",
   "execution_count": 36,
   "metadata": {
    "colab": {
     "base_uri": "https://localhost:8080/"
    },
    "id": "ReR1tt38kDDz",
    "outputId": "fc56c30f-0757-414b-9930-e6ed85427099"
   },
   "outputs": [
    {
     "data": {
      "text/plain": [
       "1428"
      ]
     },
     "execution_count": 36,
     "metadata": {},
     "output_type": "execute_result"
    }
   ],
   "source": [
    "len(pdf_pages[0].page_content)"
   ]
  },
  {
   "cell_type": "code",
   "execution_count": 37,
   "metadata": {
    "colab": {
     "base_uri": "https://localhost:8080/"
    },
    "id": "9radjxmDa__J",
    "outputId": "944ed615-7f1c-413a-b952-af48562ee2ce"
   },
   "outputs": [
    {
     "data": {
      "text/plain": [
       "Document(page_content='Andrej Karpathy\\n\\nandrej.karpathy@gmail.com http://cs.stanford.edu/~karpathy/\\n\\nEDUCATION\\n\\nStanford University (PhD), 2011 –\\n\\nComputer Science, studying Machine Learning and Computer Vision\\n\\nUniversity of British Columbia (Master’s degree), 2009 - 2011\\n\\nComputer Science graduate studies in Machine Learning, Vision, Motor Control - Average course grade: 94.4%\\n\\nUniversity of Toronto (Bachelor’s degree), 2005 - 2009\\n\\nDouble major in Computer Science and Physics, minor in Mathematics - Cumulative GPA: 3.74\\n\\nWORK EXPERIENCE\\n\\nGoogle Research (internship), June 2011 – September 2011\\n\\nDeveloped learning algorithms for video classification tasks - Worked on a large-scale learning framework for video analysis\\n\\nTeaching Assistant\\n\\n- -\\n\\n2011: Assisted with online offering of the Machine Learning class at Stanford 2011: Graduate Probabilistic Machine Learning class 2009-2010: Taught tutorial sections for a first year Discrete Mathematics class on four consecutive semesters\\n\\nCOURSE WORK\\n\\n\\n\\nStanford: Machine Learning, Computer Vision, Convex Optimization, Probabilistic Graphical Models (I and II)\\n\\nUniversity of British Columbia: Machine Learning (I and II), Computer Vision (I and II)\\n\\nHACKING SKILLS\\n\\n\\n\\nPython, C++, MATLAB, Java, Objective C, Javascript/HTML/CSS, PHP, SQL\\n\\nINTERESTS Hobbies include Ping Pong, Ice skating, Scuba diving, PC strategy/fps games, Programming, and solving the Rubik’s cube in less than 20 seconds', metadata={'source': './Andrej_Karpathy_Resume.pdf'})"
      ]
     },
     "execution_count": 37,
     "metadata": {},
     "output_type": "execute_result"
    }
   ],
   "source": [
    "pdf_pages[0]"
   ]
  },
  {
   "cell_type": "markdown",
   "metadata": {
    "id": "sGk3kqP67M7y"
   },
   "source": [
    "## Text Splitters"
   ]
  },
  {
   "cell_type": "code",
   "execution_count": 46,
   "metadata": {
    "colab": {
     "base_uri": "https://localhost:8080/"
    },
    "id": "FdUOyWP1iFNf",
    "outputId": "c2f8406f-de0c-4eb4-a930-2394fee20d96"
   },
   "outputs": [
    {
     "data": {
      "text/plain": [
       "2"
      ]
     },
     "execution_count": 46,
     "metadata": {},
     "output_type": "execute_result"
    }
   ],
   "source": [
    "text_splitter = RecursiveCharacterTextSplitter(chunk_size=1024, chunk_overlap=64)\n",
    "texts = text_splitter.split_documents(pdf_pages)\n",
    "len(texts)"
   ]
  },
  {
   "cell_type": "code",
   "execution_count": 47,
   "metadata": {
    "colab": {
     "base_uri": "https://localhost:8080/"
    },
    "id": "sH1j_Gosj2j1",
    "outputId": "d9a2a64f-a400-490f-9dfa-ed57eb26a099"
   },
   "outputs": [
    {
     "data": {
      "text/plain": [
       "(985, 454)"
      ]
     },
     "execution_count": 47,
     "metadata": {},
     "output_type": "execute_result"
    }
   ],
   "source": [
    "len(texts[0].page_content), len(texts[1].page_content)"
   ]
  },
  {
   "cell_type": "code",
   "execution_count": 40,
   "metadata": {
    "colab": {
     "base_uri": "https://localhost:8080/"
    },
    "id": "Zz8mt_iciQO8",
    "outputId": "48aefe51-7eed-435b-9a01-bc214e9c6b29"
   },
   "outputs": [
    {
     "data": {
      "text/plain": [
       "Document(page_content='Andrej Karpathy\\n\\nandrej.karpathy@gmail.com http://cs.stanford.edu/~karpathy/\\n\\nEDUCATION\\n\\nStanford University (PhD), 2011 –\\n\\nComputer Science, studying Machine Learning and Computer Vision\\n\\nUniversity of British Columbia (Master’s degree), 2009 - 2011\\n\\nComputer Science graduate studies in Machine Learning, Vision, Motor Control - Average course grade: 94.4%\\n\\nUniversity of Toronto (Bachelor’s degree), 2005 - 2009\\n\\nDouble major in Computer Science and Physics, minor in Mathematics - Cumulative GPA: 3.74\\n\\nWORK EXPERIENCE\\n\\nGoogle Research (internship), June 2011 – September 2011\\n\\nDeveloped learning algorithms for video classification tasks - Worked on a large-scale learning framework for video analysis\\n\\nTeaching Assistant\\n\\n- -\\n\\n2011: Assisted with online offering of the Machine Learning class at Stanford 2011: Graduate Probabilistic Machine Learning class 2009-2010: Taught tutorial sections for a first year Discrete Mathematics class on four consecutive semesters\\n\\nCOURSE WORK', metadata={'source': './Andrej_Karpathy_Resume.pdf'})"
      ]
     },
     "execution_count": 40,
     "metadata": {},
     "output_type": "execute_result"
    }
   ],
   "source": [
    "texts[0]"
   ]
  },
  {
   "cell_type": "code",
   "execution_count": 41,
   "metadata": {
    "colab": {
     "base_uri": "https://localhost:8080/"
    },
    "id": "kfXXJ1ZviSpM",
    "outputId": "c8492d7e-2d9e-406c-d57a-4363244f4fa8"
   },
   "outputs": [
    {
     "data": {
      "text/plain": [
       "Document(page_content='COURSE WORK\\n\\n\\n\\nStanford: Machine Learning, Computer Vision, Convex Optimization, Probabilistic Graphical Models (I and II)\\n\\nUniversity of British Columbia: Machine Learning (I and II), Computer Vision (I and II)\\n\\nHACKING SKILLS\\n\\n\\n\\nPython, C++, MATLAB, Java, Objective C, Javascript/HTML/CSS, PHP, SQL\\n\\nINTERESTS Hobbies include Ping Pong, Ice skating, Scuba diving, PC strategy/fps games, Programming, and solving the Rubik’s cube in less than 20 seconds', metadata={'source': './Andrej_Karpathy_Resume.pdf'})"
      ]
     },
     "execution_count": 41,
     "metadata": {},
     "output_type": "execute_result"
    }
   ],
   "source": [
    "texts[1]"
   ]
  },
  {
   "cell_type": "markdown",
   "metadata": {
    "id": "iADFckWU7kjl"
   },
   "source": [
    "## Embeddings"
   ]
  },
  {
   "cell_type": "code",
   "execution_count": 48,
   "metadata": {
    "id": "PTJdcEPFzGPw"
   },
   "outputs": [
    {
     "name": "stderr",
     "output_type": "stream",
     "text": [
      "modules.json: 100%|██████████████████████████████████████████████████████████████████████████████████████████| 349/349 [00:00<00:00, 401kB/s]\n",
      "config_sentence_transformers.json: 100%|█████████████████████████████████████████████████████████████████████| 116/116 [00:00<00:00, 256kB/s]\n",
      "README.md: 100%|████████████████████████████████████████████████████████████████████████████████████████| 10.6k/10.6k [00:00<00:00, 18.0MB/s]\n",
      "sentence_bert_config.json: 100%|███████████████████████████████████████████████████████████████████████████| 53.0/53.0 [00:00<00:00, 136kB/s]\n",
      "config.json: 100%|██████████████████████████████████████████████████████████████████████████████████████████| 571/571 [00:00<00:00, 1.59MB/s]\n",
      "pytorch_model.bin: 100%|██████████████████████████████████████████████████████████████████████████████████| 438M/438M [00:40<00:00, 10.8MB/s]\n",
      "tokenizer_config.json: 100%|████████████████████████████████████████████████████████████████████████████████| 363/363 [00:00<00:00, 1.60MB/s]\n",
      "vocab.txt: 100%|██████████████████████████████████████████████████████████████████████████████████████████| 232k/232k [00:00<00:00, 1.02MB/s]\n",
      "tokenizer.json: 100%|██████████████████████████████████████████████████████████████████████████████████████| 466k/466k [00:00<00:00, 910kB/s]\n",
      "special_tokens_map.json: 100%|███████████████████████████████████████████████████████████████████████████████| 239/239 [00:00<00:00, 699kB/s]\n",
      "1_Pooling/config.json: 100%|█████████████████████████████████████████████████████████████████████████████████| 190/190 [00:00<00:00, 646kB/s]\n"
     ]
    }
   ],
   "source": [
    "MODEL_NAME = \"sentence-transformers/all-mpnet-base-v2\"\n",
    "hf_embeddings = HuggingFaceEmbeddings(model_name=MODEL_NAME)"
   ]
  },
  {
   "cell_type": "code",
   "execution_count": 49,
   "metadata": {
    "colab": {
     "base_uri": "https://localhost:8080/",
     "height": 161
    },
    "id": "ZsvwTQSC0nPK",
    "outputId": "0daaffba-0359-46c6-b6c4-0580e9ec15e0"
   },
   "outputs": [
    {
     "data": {
      "text/plain": [
       "'Andrej Karpathy\\n\\nandrej.karpathy@gmail.com http://cs.stanford.edu/~karpathy/\\n\\nEDUCATION\\n\\nStanford University (PhD), 2011 –\\n\\nComputer Science, studying Machine Learning and Computer Vision\\n\\nUniversity of British Columbia (Master’s degree), 2009 - 2011\\n\\nComputer Science graduate studies in Machine Learning, Vision, Motor Control - Average course grade: 94.4%\\n\\nUniversity of Toronto (Bachelor’s degree), 2005 - 2009\\n\\nDouble major in Computer Science and Physics, minor in Mathematics - Cumulative GPA: 3.74\\n\\nWORK EXPERIENCE\\n\\nGoogle Research (internship), June 2011 – September 2011\\n\\nDeveloped learning algorithms for video classification tasks - Worked on a large-scale learning framework for video analysis\\n\\nTeaching Assistant\\n\\n- -\\n\\n2011: Assisted with online offering of the Machine Learning class at Stanford 2011: Graduate Probabilistic Machine Learning class 2009-2010: Taught tutorial sections for a first year Discrete Mathematics class on four consecutive semesters\\n\\nCOURSE WORK'"
      ]
     },
     "execution_count": 49,
     "metadata": {},
     "output_type": "execute_result"
    }
   ],
   "source": [
    "text = texts[0].page_content\n",
    "text"
   ]
  },
  {
   "cell_type": "code",
   "execution_count": 50,
   "metadata": {
    "colab": {
     "base_uri": "https://localhost:8080/"
    },
    "id": "xaxpig8Vzl9X",
    "outputId": "09e3fb26-a2cf-4846-ccf0-bcb9bae360e9"
   },
   "outputs": [
    {
     "data": {
      "text/plain": [
       "768"
      ]
     },
     "execution_count": 50,
     "metadata": {},
     "output_type": "execute_result"
    }
   ],
   "source": [
    "hf_embedding = hf_embeddings.embed_documents([text])\n",
    "len(hf_embedding[0])"
   ]
  },
  {
   "cell_type": "code",
   "execution_count": 51,
   "metadata": {
    "colab": {
     "base_uri": "https://localhost:8080/"
    },
    "id": "hoaqgGy20ICi",
    "outputId": "ccd778b7-e8c8-4f2f-dd21-33720df2d193"
   },
   "outputs": [
    {
     "data": {
      "text/plain": [
       "[0.0018453153315931559,\n",
       " 0.06233080103993416,\n",
       " -0.045333027839660645,\n",
       " -0.02713366411626339,\n",
       " 0.010153532028198242,\n",
       " -0.013238377869129181,\n",
       " 0.05982312560081482,\n",
       " -0.025168033316731453,\n",
       " -0.03709833323955536,\n",
       " -0.034538403153419495]"
      ]
     },
     "execution_count": 51,
     "metadata": {},
     "output_type": "execute_result"
    }
   ],
   "source": [
    "hf_embedding[0][:10]"
   ]
  },
  {
   "cell_type": "code",
   "execution_count": 52,
   "metadata": {
    "id": "OepRIjzu7POT"
   },
   "outputs": [],
   "source": [
    "embeddings = OpenAIEmbeddings()"
   ]
  },
  {
   "cell_type": "code",
   "execution_count": 53,
   "metadata": {
    "colab": {
     "base_uri": "https://localhost:8080/"
    },
    "id": "b1mJ8ksB0dCE",
    "outputId": "3296cd99-9966-42ff-ea81-b3a9388fdade"
   },
   "outputs": [
    {
     "data": {
      "text/plain": [
       "1536"
      ]
     },
     "execution_count": 53,
     "metadata": {},
     "output_type": "execute_result"
    }
   ],
   "source": [
    "openai_embedding = embeddings.embed_documents([text])\n",
    "len(openai_embedding[0])"
   ]
  },
  {
   "cell_type": "code",
   "execution_count": 54,
   "metadata": {
    "colab": {
     "base_uri": "https://localhost:8080/"
    },
    "id": "s3x6CRko0hqC",
    "outputId": "a6939f92-8967-495b-cb93-859852cad02e"
   },
   "outputs": [
    {
     "data": {
      "text/plain": [
       "[-0.00683751628471003,\n",
       " 0.019630398629499442,\n",
       " 0.018684029516211745,\n",
       " -0.0343126389652541,\n",
       " 0.01570972579045955,\n",
       " 0.024875985991967723,\n",
       " -0.006168298551775518,\n",
       " 0.021820565924798332,\n",
       " -0.03055420067169392,\n",
       " -0.018251404061599155]"
      ]
     },
     "execution_count": 54,
     "metadata": {},
     "output_type": "execute_result"
    }
   ],
   "source": [
    "openai_embedding[0][:10]"
   ]
  },
  {
   "cell_type": "markdown",
   "metadata": {
    "id": "8vVyDPSB7mo-"
   },
   "source": [
    "## Vectorstores"
   ]
  },
  {
   "cell_type": "code",
   "execution_count": 55,
   "metadata": {
    "colab": {
     "base_uri": "https://localhost:8080/"
    },
    "id": "5eBmO0Wy7npk",
    "outputId": "41fa8d8a-cd51-482a-dc91-6f28c389eca6"
   },
   "outputs": [],
   "source": [
    "db = Chroma.from_documents(texts, embeddings)"
   ]
  },
  {
   "cell_type": "code",
   "execution_count": 58,
   "metadata": {
    "colab": {
     "base_uri": "https://localhost:8080/"
    },
    "id": "FWDSsxEDpLE4",
    "outputId": "3ff57635-c131-4dc8-b4c3-1aee62a0aba5"
   },
   "outputs": [
    {
     "data": {
      "text/plain": [
       "[(Document(page_content='COURSE WORK\\n\\n\\n\\nStanford: Machine Learning, Computer Vision, Convex Optimization, Probabilistic Graphical Models (I and II)\\n\\nUniversity of British Columbia: Machine Learning (I and II), Computer Vision (I and II)\\n\\nHACKING SKILLS\\n\\n\\n\\nPython, C++, MATLAB, Java, Objective C, Javascript/HTML/CSS, PHP, SQL\\n\\nINTERESTS Hobbies include Ping Pong, Ice skating, Scuba diving, PC strategy/fps games, Programming, and solving the Rubik’s cube in less than 20 seconds', metadata={'source': './Andrej_Karpathy_Resume.pdf'}),\n",
       "  0.47222715616226196),\n",
       " (Document(page_content='Andrej Karpathy\\n\\nandrej.karpathy@gmail.com http://cs.stanford.edu/~karpathy/\\n\\nEDUCATION\\n\\nStanford University (PhD), 2011 –\\n\\nComputer Science, studying Machine Learning and Computer Vision\\n\\nUniversity of British Columbia (Master’s degree), 2009 - 2011\\n\\nComputer Science graduate studies in Machine Learning, Vision, Motor Control - Average course grade: 94.4%\\n\\nUniversity of Toronto (Bachelor’s degree), 2005 - 2009\\n\\nDouble major in Computer Science and Physics, minor in Mathematics - Cumulative GPA: 3.74\\n\\nWORK EXPERIENCE\\n\\nGoogle Research (internship), June 2011 – September 2011\\n\\nDeveloped learning algorithms for video classification tasks - Worked on a large-scale learning framework for video analysis\\n\\nTeaching Assistant\\n\\n- -\\n\\n2011: Assisted with online offering of the Machine Learning class at Stanford 2011: Graduate Probabilistic Machine Learning class 2009-2010: Taught tutorial sections for a first year Discrete Mathematics class on four consecutive semesters\\n\\nCOURSE WORK', metadata={'source': './Andrej_Karpathy_Resume.pdf'}),\n",
       "  0.48207446932792664)]"
      ]
     },
     "execution_count": 58,
     "metadata": {},
     "output_type": "execute_result"
    }
   ],
   "source": [
    "db.similarity_search_with_score(\"What is the candidate work experience?\", k=2)"
   ]
  },
  {
   "cell_type": "markdown",
   "metadata": {
    "id": "_yVUrEQOoyJo"
   },
   "source": [
    "### Storing and Loading Embeddings"
   ]
  },
  {
   "cell_type": "code",
   "execution_count": 59,
   "metadata": {
    "colab": {
     "base_uri": "https://localhost:8080/"
    },
    "id": "PkWBekh9o8Ie",
    "outputId": "64aa811c-f9f8-4f32-975e-083455ae7834"
   },
   "outputs": [],
   "source": [
    "PERSIST_DIRECTORY = \"db\"\n",
    "\n",
    "db = Chroma.from_documents(\n",
    "    documents=texts, embedding=embeddings, persist_directory=PERSIST_DIRECTORY\n",
    ")"
   ]
  },
  {
   "cell_type": "code",
   "execution_count": 60,
   "metadata": {
    "colab": {
     "base_uri": "https://localhost:8080/"
    },
    "id": "0DO8OgwXtU-L",
    "outputId": "c50133e2-f86b-4b5e-c521-a81b7bd02bc0"
   },
   "outputs": [
    {
     "data": {
      "text/plain": [
       "[(Document(page_content='COURSE WORK\\n\\n\\n\\nStanford: Machine Learning, Computer Vision, Convex Optimization, Probabilistic Graphical Models (I and II)\\n\\nUniversity of British Columbia: Machine Learning (I and II), Computer Vision (I and II)\\n\\nHACKING SKILLS\\n\\n\\n\\nPython, C++, MATLAB, Java, Objective C, Javascript/HTML/CSS, PHP, SQL\\n\\nINTERESTS Hobbies include Ping Pong, Ice skating, Scuba diving, PC strategy/fps games, Programming, and solving the Rubik’s cube in less than 20 seconds', metadata={'source': './Andrej_Karpathy_Resume.pdf'}),\n",
       "  0.4730950648141497),\n",
       " (Document(page_content='Andrej Karpathy\\n\\nandrej.karpathy@gmail.com http://cs.stanford.edu/~karpathy/\\n\\nEDUCATION\\n\\nStanford University (PhD), 2011 –\\n\\nComputer Science, studying Machine Learning and Computer Vision\\n\\nUniversity of British Columbia (Master’s degree), 2009 - 2011\\n\\nComputer Science graduate studies in Machine Learning, Vision, Motor Control - Average course grade: 94.4%\\n\\nUniversity of Toronto (Bachelor’s degree), 2005 - 2009\\n\\nDouble major in Computer Science and Physics, minor in Mathematics - Cumulative GPA: 3.74\\n\\nWORK EXPERIENCE\\n\\nGoogle Research (internship), June 2011 – September 2011\\n\\nDeveloped learning algorithms for video classification tasks - Worked on a large-scale learning framework for video analysis\\n\\nTeaching Assistant\\n\\n- -\\n\\n2011: Assisted with online offering of the Machine Learning class at Stanford 2011: Graduate Probabilistic Machine Learning class 2009-2010: Taught tutorial sections for a first year Discrete Mathematics class on four consecutive semesters\\n\\nCOURSE WORK', metadata={'source': './Andrej_Karpathy_Resume.pdf'}),\n",
       "  0.48299068756288066)]"
      ]
     },
     "execution_count": 60,
     "metadata": {},
     "output_type": "execute_result"
    }
   ],
   "source": [
    "db.similarity_search_with_score(\"What is the candidate work experience?\", k=2)"
   ]
  },
  {
   "cell_type": "code",
   "execution_count": 61,
   "metadata": {
    "id": "EiRCXYiWpJFz"
   },
   "outputs": [],
   "source": [
    "db.persist()"
   ]
  },
  {
   "cell_type": "markdown",
   "metadata": {
    "id": "MN6cCrqkq_ac"
   },
   "source": [
    "Load data"
   ]
  },
  {
   "cell_type": "code",
   "execution_count": 62,
   "metadata": {
    "colab": {
     "base_uri": "https://localhost:8080/"
    },
    "id": "JB6kMo0GqT1h",
    "outputId": "1d34d0c0-3b1d-4cef-c661-c20644e30080"
   },
   "outputs": [],
   "source": [
    "vectordb = Chroma(persist_directory=PERSIST_DIRECTORY, embedding_function=embeddings)"
   ]
  },
  {
   "cell_type": "code",
   "execution_count": 64,
   "metadata": {
    "colab": {
     "base_uri": "https://localhost:8080/"
    },
    "id": "7T0R9eofq5hN",
    "outputId": "735d3713-4bdd-496f-e324-790f24fc4518"
   },
   "outputs": [
    {
     "data": {
      "text/plain": [
       "[(Document(page_content='Andrej Karpathy\\n\\nandrej.karpathy@gmail.com http://cs.stanford.edu/~karpathy/\\n\\nEDUCATION\\n\\nStanford University (PhD), 2011 –\\n\\nComputer Science, studying Machine Learning and Computer Vision\\n\\nUniversity of British Columbia (Master’s degree), 2009 - 2011\\n\\nComputer Science graduate studies in Machine Learning, Vision, Motor Control - Average course grade: 94.4%\\n\\nUniversity of Toronto (Bachelor’s degree), 2005 - 2009\\n\\nDouble major in Computer Science and Physics, minor in Mathematics - Cumulative GPA: 3.74\\n\\nWORK EXPERIENCE\\n\\nGoogle Research (internship), June 2011 – September 2011\\n\\nDeveloped learning algorithms for video classification tasks - Worked on a large-scale learning framework for video analysis\\n\\nTeaching Assistant\\n\\n- -\\n\\n2011: Assisted with online offering of the Machine Learning class at Stanford 2011: Graduate Probabilistic Machine Learning class 2009-2010: Taught tutorial sections for a first year Discrete Mathematics class on four consecutive semesters\\n\\nCOURSE WORK', metadata={'source': './Andrej_Karpathy_Resume.pdf'}),\n",
       "  0.42289468449664236),\n",
       " (Document(page_content='COURSE WORK\\n\\n\\n\\nStanford: Machine Learning, Computer Vision, Convex Optimization, Probabilistic Graphical Models (I and II)\\n\\nUniversity of British Columbia: Machine Learning (I and II), Computer Vision (I and II)\\n\\nHACKING SKILLS\\n\\n\\n\\nPython, C++, MATLAB, Java, Objective C, Javascript/HTML/CSS, PHP, SQL\\n\\nINTERESTS Hobbies include Ping Pong, Ice skating, Scuba diving, PC strategy/fps games, Programming, and solving the Rubik’s cube in less than 20 seconds', metadata={'source': './Andrej_Karpathy_Resume.pdf'}),\n",
       "  0.45344163008062666)]"
      ]
     },
     "execution_count": 64,
     "metadata": {},
     "output_type": "execute_result"
    }
   ],
   "source": [
    "vectordb.similarity_search_with_score(\"Where does the candidate studied?\", k=2)"
   ]
  },
  {
   "cell_type": "markdown",
   "metadata": {
    "id": "LGzDuztespYH"
   },
   "source": [
    "## Use a Chain"
   ]
  },
  {
   "cell_type": "code",
   "execution_count": 65,
   "metadata": {
    "id": "aIoylGwastp8"
   },
   "outputs": [],
   "source": [
    "chain = RetrievalQA.from_chain_type(\n",
    "    llm=ChatOpenAI(temperature=0),\n",
    "    chain_type=\"stuff\",\n",
    "    retriever=db.as_retriever(search_kwargs={\"k\": 2}),\n",
    ")"
   ]
  },
  {
   "cell_type": "code",
   "execution_count": 68,
   "metadata": {
    "id": "B2LeOFLwtkho"
   },
   "outputs": [],
   "source": [
    "query = \"Where does the candidate studied? Use no more than 2 sentences.\"\n",
    "response = chain.run(query)"
   ]
  },
  {
   "cell_type": "code",
   "execution_count": 69,
   "metadata": {
    "colab": {
     "base_uri": "https://localhost:8080/"
    },
    "id": "uYVgNvqxtqv2",
    "outputId": "a34f53b5-3fcb-49f1-f842-53ec3eba6618"
   },
   "outputs": [
    {
     "name": "stdout",
     "output_type": "stream",
     "text": [
      "The candidate studied at Stanford University for their PhD in Computer Science, focusing on Machine\n",
      "Learning and Computer Vision. They also studied at the University of British Columbia for their\n",
      "Master's degree in Computer Science, with a focus on Machine Learning and Computer Vision.\n"
     ]
    }
   ],
   "source": [
    "print_response(response)"
   ]
  },
  {
   "cell_type": "code",
   "execution_count": 70,
   "metadata": {
    "colab": {
     "base_uri": "https://localhost:8080/"
    },
    "id": "mR_yuCXVC5tV",
    "outputId": "f67c3286-f566-4bc2-97ca-7e2e440400ce"
   },
   "outputs": [
    {
     "name": "stdout",
     "output_type": "stream",
     "text": [
      "Andrej Karpathy is a computer scientist with a PhD from Stanford University. He has experience in\n",
      "machine learning, computer vision, and video analysis, and has worked as a research intern at\n",
      "Google. He is skilled in various programming languages and has a range of hobbies including ping\n",
      "pong and solving the Rubik's cube.\n"
     ]
    }
   ],
   "source": [
    "query = \"Give a background summary of the candidate. Use no more than 3 sentences.\"\n",
    "response = chain.run(query)\n",
    "print_response(response)"
   ]
  },
  {
   "cell_type": "code",
   "execution_count": 71,
   "metadata": {},
   "outputs": [
    {
     "name": "stdout",
     "output_type": "stream",
     "text": [
      "Based on the provided information, there is no mention of Andrej Karpathy having experience or\n",
      "knowledge in coding using Node.js.\n"
     ]
    }
   ],
   "source": [
    "query = \"Does he know how to code using nodejs?\"\n",
    "response = chain.run(query)\n",
    "print_response(response)"
   ]
  },
  {
   "cell_type": "code",
   "execution_count": 72,
   "metadata": {
    "colab": {
     "base_uri": "https://localhost:8080/"
    },
    "id": "BbaGBZhMB2IC",
    "outputId": "20cfd89e-9de4-45ae-d4cf-cadd873a988e"
   },
   "outputs": [
    {
     "name": "stdout",
     "output_type": "stream",
     "text": [
      "Based on the information provided, it is difficult to accurately assess the likelihood of this\n",
      "candidate becoming a top-tier DL researcher in the future. While Andrej Karpathy has a strong\n",
      "educational background in computer science, with a focus on machine learning and computer vision,\n",
      "and has gained experience through an internship at Google Research, it is important to consider\n",
      "other factors such as research publications, contributions to the field, and collaborations with\n",
      "other top-tier researchers.  Without additional information about the candidate's research\n",
      "achievements, publications, and impact in the field, it is challenging to make a definitive\n",
      "judgment. Therefore, I would rate the likelihood as a 5 on a scale of 0-10, indicating a neutral\n",
      "stance.\n"
     ]
    }
   ],
   "source": [
    "query = \"\"\"\n",
    "How likely is this candidate to be a top-tier DL researcher 2 years from now? \n",
    "Use 0-10 scale, where\n",
    "0 - chance is nonexistent\n",
    "10 - beyond reasonable doubt\n",
    "\n",
    "You must choose a number and explain why\n",
    "\"\"\"\n",
    "response = chain.run(query)\n",
    "print_response(response)"
   ]
  },
  {
   "cell_type": "markdown",
   "metadata": {
    "id": "eljYTvb-AzSt"
   },
   "source": [
    "## References\n",
    "\n",
    "- [Paul Graham - The Need to Read](http://www.paulgraham.com/read.html)\n",
    "- [Alex Hormozi - How to get the most out of reading](https://www.youtube.com/watch?v=n2uY3-2Goek)\n",
    "- [Andrej Karpathy (very old) Resume](https://cs.stanford.edu/~karpathy/Andrej_Karpathy_Resume.pdf)\n",
    "- [LangChain Docs](https://python.langchain.com/en/latest/index.html)"
   ]
  }
 ],
 "metadata": {
  "colab": {
   "provenance": []
  },
  "kernelspec": {
   "display_name": "Python 3 (ipykernel)",
   "language": "python",
   "name": "python3"
  },
  "language_info": {
   "codemirror_mode": {
    "name": "ipython",
    "version": 3
   },
   "file_extension": ".py",
   "mimetype": "text/x-python",
   "name": "python",
   "nbconvert_exporter": "python",
   "pygments_lexer": "ipython3",
   "version": "3.11.5"
  }
 },
 "nbformat": 4,
 "nbformat_minor": 4
}
