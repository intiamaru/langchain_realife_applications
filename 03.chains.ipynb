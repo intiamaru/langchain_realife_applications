{
 "cells": [
  {
   "cell_type": "code",
   "execution_count": 2,
   "metadata": {
    "id": "pnwfnKbEkL5e"
   },
   "outputs": [],
   "source": [
    "!pip install -Uqqq pip\n",
    "!pip install -qqq langchain==0.1.5\n",
    "!pip install -qqq openai==1.11.1\n",
    "!pip install -qqq watermark==2.4.3\n",
    "!pip install -Uqqq chromadb==0.4.22 \n",
    "!pip install -qqq tiktoken==0.5.2 \n",
    "!pip install -qqq langchain-openai==0.0.5"
   ]
  },
  {
   "cell_type": "code",
   "execution_count": 8,
   "metadata": {
    "id": "OGdXFDwBrVIZ"
   },
   "outputs": [],
   "source": [
    "import os\n",
    "import textwrap\n",
    "from getpass import getpass\n",
    "\n",
    "import chromadb\n",
    "import langchain\n",
    "import openai\n",
    "\n",
    "# from langchain_experimental.llm_bash.base import LLMBashChain\n",
    "from langchain.chains import LLMChain, RetrievalQA, SimpleSequentialChain\n",
    "from langchain.chains.summarize import load_summarize_chain\n",
    "from langchain.docstore.document import Document\n",
    "\n",
    "from langchain_openai import ChatOpenAI\n",
    "from langchain_openai import OpenAIEmbeddings\n",
    "from langchain_openai import OpenAI\n",
    "\n",
    "from langchain.prompts import PromptTemplate\n",
    "from langchain.text_splitter import CharacterTextSplitter\n",
    "from langchain.vectorstores import Chroma\n",
    "from dotenv import load_dotenv"
   ]
  },
  {
   "cell_type": "code",
   "execution_count": 6,
   "metadata": {
    "colab": {
     "base_uri": "https://localhost:8080/"
    },
    "id": "glLyy9quuBrU",
    "outputId": "645ad7a3-26f8-4b40-f1ac-643fa12a97f7"
   },
   "outputs": [
    {
     "name": "stdout",
     "output_type": "stream",
     "text": [
      "Python implementation: CPython\n",
      "Python version       : 3.11.5\n",
      "IPython version      : 8.21.0\n",
      "\n",
      "Compiler    : Clang 14.0.0 (clang-1400.0.29.202)\n",
      "OS          : Darwin\n",
      "Release     : 21.6.0\n",
      "Machine     : x86_64\n",
      "Processor   : i386\n",
      "CPU cores   : 4\n",
      "Architecture: 64bit\n",
      "\n",
      "chromadb : 0.4.22\n",
      "openai   : 1.11.1\n",
      "langchain: 0.1.5\n",
      "\n"
     ]
    }
   ],
   "source": [
    "%load_ext watermark\n",
    "%watermark --iversions -v -m"
   ]
  },
  {
   "cell_type": "code",
   "execution_count": 7,
   "metadata": {
    "id": "kzXoMUUWuCBq"
   },
   "outputs": [],
   "source": [
    "def print_response(response: str):\n",
    "    print(\"\\n\".join(textwrap.wrap(response, width=100)))"
   ]
  },
  {
   "cell_type": "code",
   "execution_count": 9,
   "metadata": {
    "colab": {
     "base_uri": "https://localhost:8080/"
    },
    "id": "nYUltznzuFVz",
    "outputId": "81257963-8cb6-4f56-e1cf-78aa1f20aab3"
   },
   "outputs": [
    {
     "data": {
      "text/plain": [
       "True"
      ]
     },
     "execution_count": 9,
     "metadata": {},
     "output_type": "execute_result"
    }
   ],
   "source": [
    "# OPENAI_API_KEY = getpass()\n",
    "# os.environ[\"OPENAI_API_KEY\"] = OPENAI_API_KEY\n",
    "load_dotenv()"
   ]
  },
  {
   "cell_type": "code",
   "execution_count": 10,
   "metadata": {
    "id": "uMzNG3mZ0BmM"
   },
   "outputs": [],
   "source": [
    "\n",
    "chat_gpt = ChatOpenAI(temperature=0, model_name=\"gpt-3.5-turbo\")"
   ]
  },
  {
   "cell_type": "code",
   "execution_count": 11,
   "metadata": {
    "id": "ecQVBt2Rv4Gw"
   },
   "outputs": [],
   "source": [
    "template = \"\"\"\n",
    "You have to come up with location to shoot (along with a 20-50 word description)\n",
    "for a new episode of the TV show \"The Office\" based on the theme\n",
    "\n",
    "{theme_suggestion}\n",
    "\n",
    "ANSWER:\n",
    "\"\"\"\n",
    "prompt = PromptTemplate(input_variables=[\"theme_suggestion\"], template=template)\n",
    "\n",
    "location_chain = LLMChain(llm=chat_gpt, prompt=prompt)"
   ]
  },
  {
   "cell_type": "code",
   "execution_count": 13,
   "metadata": {
    "colab": {
     "base_uri": "https://localhost:8080/"
    },
    "id": "92ZQkOgl0HfO",
    "outputId": "f47fb14f-19c3-4689-9182-a7a3731f2f01"
   },
   "outputs": [
    {
     "data": {
      "text/plain": [
       "{'theme_suggestion': 'Visiting Asia',\n",
       " 'text': 'Title: \"The Office: Asian Adventure\"\\n\\nDescription: In this special episode, the Dunder Mifflin Scranton branch embarks on an unforgettable journey to Asia. Join Michael Scott and his quirky team as they navigate the bustling streets of Tokyo, explore ancient temples in Kyoto, and attempt to master the art of karaoke in Seoul. Hilarity ensues as cultural misunderstandings and misadventures abound, making this Asian adventure one for the books.'}"
      ]
     },
     "execution_count": 13,
     "metadata": {},
     "output_type": "execute_result"
    }
   ],
   "source": [
    "response = location_chain.invoke(\"Visiting Asia\")\n",
    "response"
   ]
  },
  {
   "cell_type": "code",
   "execution_count": 14,
   "metadata": {
    "colab": {
     "base_uri": "https://localhost:8080/"
    },
    "id": "r7kOTkba0gZA",
    "outputId": "146d8b57-e276-43eb-a5e6-736c3a51253b"
   },
   "outputs": [
    {
     "name": "stdout",
     "output_type": "stream",
     "text": [
      "Title: \"The Office: Asian Adventure\"  Description: In this special episode, the Dunder Mifflin\n",
      "Scranton branch embarks on an unforgettable journey to Asia. Join Michael Scott and his quirky team\n",
      "as they navigate the bustling streets of Tokyo, explore ancient temples in Kyoto, and attempt to\n",
      "master the art of karaoke in Seoul. Hilarity ensues as cultural misunderstandings and misadventures\n",
      "abound, making this Asian adventure one for the books.\n"
     ]
    }
   ],
   "source": [
    "print_response(response[\"text\"])"
   ]
  },
  {
   "cell_type": "markdown",
   "metadata": {
    "id": "-S6CpfZ7SmSV"
   },
   "source": [
    "## SequentialChain"
   ]
  },
  {
   "cell_type": "code",
   "execution_count": 15,
   "metadata": {
    "id": "6jANaR8h2pK4"
   },
   "outputs": [],
   "source": [
    "template = \"\"\"\n",
    "Generate a short dialogue between Jim and Pam\n",
    "from the TV show \"The Office\" for a new episode based on the location\n",
    "\n",
    "{location}\n",
    "\n",
    "ANSWER:\n",
    "\"\"\"\n",
    "prompt = PromptTemplate(input_variables=[\"location\"], template=template)\n",
    "\n",
    "conversation_chain = LLMChain(llm=chat_gpt, prompt=prompt)"
   ]
  },
  {
   "cell_type": "code",
   "execution_count": 17,
   "metadata": {
    "colab": {
     "base_uri": "https://localhost:8080/"
    },
    "id": "YvZfOnK8MbG_",
    "outputId": "4e91bbaa-2408-4011-991b-cc8c2ed2cd67"
   },
   "outputs": [
    {
     "name": "stdout",
     "output_type": "stream",
     "text": [
      "\n",
      "\n",
      "\u001b[1m> Entering new SimpleSequentialChain chain...\u001b[0m\n",
      "\u001b[36;1m\u001b[1;3mTitle: \"The Office: European Escapades\"\n",
      "\n",
      "Description: The Dunder Mifflin Scranton branch embarks on a hilarious European adventure! Join Michael Scott and his quirky team as they navigate cultural differences, language barriers, and questionable fashion choices. From the bustling streets of London to the romantic canals of Venice, this episode promises laughter, misunderstandings, and a whole lot of cringe-worthy moments.\u001b[0m\n",
      "\u001b[33;1m\u001b[1;3mINT. SCRANTON BRANCH - DUNDER MIFFLIN - DAY\n",
      "\n",
      "Jim and Pam are sitting at their desks, looking excited and slightly nervous.\n",
      "\n",
      "JIM\n",
      "(whispering)\n",
      "Can you believe it, Pam? We're actually going to Europe with the whole office!\n",
      "\n",
      "PAM\n",
      "(smiling)\n",
      "I know, right? It's going to be so much fun! I can't wait to see Michael's reaction to all the cultural differences.\n",
      "\n",
      "INT. AIRPLANE - DAY\n",
      "\n",
      "Jim and Pam are seated next to each other on the plane, wearing matching neck pillows.\n",
      "\n",
      "JIM\n",
      "(looking out the window)\n",
      "Hey, Pam, look at that view! We're flying over the English Channel.\n",
      "\n",
      "PAM\n",
      "(excitedly)\n",
      "I know, it's amazing! I can't wait to explore London. I've always wanted to see Big Ben and the Tower Bridge.\n",
      "\n",
      "INT. LONDON - DAY\n",
      "\n",
      "Jim and Pam are walking through the busy streets of London, holding a map and looking lost.\n",
      "\n",
      "JIM\n",
      "(confused)\n",
      "Pam, I think we took a wrong turn. This map is so confusing.\n",
      "\n",
      "PAM\n",
      "(giggling)\n",
      "Yeah, I think we're definitely lost. But hey, at least we're lost together, right?\n",
      "\n",
      "INT. VENICE - DAY\n",
      "\n",
      "Jim and Pam are sitting in a gondola, gliding through the romantic canals of Venice.\n",
      "\n",
      "JIM\n",
      "(smirking)\n",
      "So, Pam, do you think we can recreate that famous scene from \"The Italian Job\" while we're here?\n",
      "\n",
      "PAM\n",
      "(laughing)\n",
      "I don't know about that, but we can definitely enjoy the beautiful scenery and maybe even try some authentic Italian gelato.\n",
      "\n",
      "INT. PARIS - DAY\n",
      "\n",
      "Jim and Pam are standing in front of the Eiffel Tower, taking a selfie.\n",
      "\n",
      "JIM\n",
      "(grinning)\n",
      "Pam, can you believe we're actually in Paris? This is like a dream come true.\n",
      "\n",
      "PAM\n",
      "(hugging Jim)\n",
      "I know, it's incredible. And to think, we're experiencing all of this with our crazy office family.\n",
      "\n",
      "They both smile at each other, capturing the moment in their photo.\n",
      "\n",
      "FADE OUT.\u001b[0m\n",
      "\n",
      "\u001b[1m> Finished chain.\u001b[0m\n"
     ]
    }
   ],
   "source": [
    "sequential_chain = SimpleSequentialChain(\n",
    "    chains=[location_chain, conversation_chain], verbose=True\n",
    ")\n",
    "response = sequential_chain.invoke(\"Visiting Europe\")"
   ]
  },
  {
   "cell_type": "code",
   "execution_count": 18,
   "metadata": {
    "colab": {
     "base_uri": "https://localhost:8080/"
    },
    "id": "xYxuc6_NOZBi",
    "outputId": "c7d7ac7d-9531-40bd-a2b9-93e40d9f8237"
   },
   "outputs": [
    {
     "name": "stdout",
     "output_type": "stream",
     "text": [
      "{'input': 'Visiting Europe', 'output': 'INT. SCRANTON BRANCH - DUNDER MIFFLIN - DAY\\n\\nJim and Pam are sitting at their desks, looking excited and slightly nervous.\\n\\nJIM\\n(whispering)\\nCan you believe it, Pam? We\\'re actually going to Europe with the whole office!\\n\\nPAM\\n(smiling)\\nI know, right? It\\'s going to be so much fun! I can\\'t wait to see Michael\\'s reaction to all the cultural differences.\\n\\nINT. AIRPLANE - DAY\\n\\nJim and Pam are seated next to each other on the plane, wearing matching neck pillows.\\n\\nJIM\\n(looking out the window)\\nHey, Pam, look at that view! We\\'re flying over the English Channel.\\n\\nPAM\\n(excitedly)\\nI know, it\\'s amazing! I can\\'t wait to explore London. I\\'ve always wanted to see Big Ben and the Tower Bridge.\\n\\nINT. LONDON - DAY\\n\\nJim and Pam are walking through the busy streets of London, holding a map and looking lost.\\n\\nJIM\\n(confused)\\nPam, I think we took a wrong turn. This map is so confusing.\\n\\nPAM\\n(giggling)\\nYeah, I think we\\'re definitely lost. But hey, at least we\\'re lost together, right?\\n\\nINT. VENICE - DAY\\n\\nJim and Pam are sitting in a gondola, gliding through the romantic canals of Venice.\\n\\nJIM\\n(smirking)\\nSo, Pam, do you think we can recreate that famous scene from \"The Italian Job\" while we\\'re here?\\n\\nPAM\\n(laughing)\\nI don\\'t know about that, but we can definitely enjoy the beautiful scenery and maybe even try some authentic Italian gelato.\\n\\nINT. PARIS - DAY\\n\\nJim and Pam are standing in front of the Eiffel Tower, taking a selfie.\\n\\nJIM\\n(grinning)\\nPam, can you believe we\\'re actually in Paris? This is like a dream come true.\\n\\nPAM\\n(hugging Jim)\\nI know, it\\'s incredible. And to think, we\\'re experiencing all of this with our crazy office family.\\n\\nThey both smile at each other, capturing the moment in their photo.\\n\\nFADE OUT.'}\n"
     ]
    }
   ],
   "source": [
    "conversation = response\n",
    "print(conversation)"
   ]
  },
  {
   "cell_type": "markdown",
   "metadata": {
    "id": "k9rYkRQJSo6U"
   },
   "source": [
    "## Summarization"
   ]
  },
  {
   "cell_type": "code",
   "execution_count": 19,
   "metadata": {
    "id": "xJp2OJu6SqS9"
   },
   "outputs": [],
   "source": [
    "template = \"\"\"\n",
    "Write a concise bullet list summary of the conversation between Jim and Pam from the TV show \"The Office\":\n",
    "\n",
    "{text}\n",
    "\n",
    "Concise summary using markdown:\"\"\"\n",
    "\n",
    "prompt = PromptTemplate(template=template, input_variables=[\"text\"])\n",
    "summary_chain = load_summarize_chain(\n",
    "    chat_gpt, chain_type=\"stuff\", verbose=True, prompt=prompt\n",
    ")"
   ]
  },
  {
   "cell_type": "code",
   "execution_count": 21,
   "metadata": {},
   "outputs": [
    {
     "data": {
      "text/plain": [
       "{'input': 'Visiting Europe',\n",
       " 'output': 'INT. SCRANTON BRANCH - DUNDER MIFFLIN - DAY\\n\\nJim and Pam are sitting at their desks, looking excited and slightly nervous.\\n\\nJIM\\n(whispering)\\nCan you believe it, Pam? We\\'re actually going to Europe with the whole office!\\n\\nPAM\\n(smiling)\\nI know, right? It\\'s going to be so much fun! I can\\'t wait to see Michael\\'s reaction to all the cultural differences.\\n\\nINT. AIRPLANE - DAY\\n\\nJim and Pam are seated next to each other on the plane, wearing matching neck pillows.\\n\\nJIM\\n(looking out the window)\\nHey, Pam, look at that view! We\\'re flying over the English Channel.\\n\\nPAM\\n(excitedly)\\nI know, it\\'s amazing! I can\\'t wait to explore London. I\\'ve always wanted to see Big Ben and the Tower Bridge.\\n\\nINT. LONDON - DAY\\n\\nJim and Pam are walking through the busy streets of London, holding a map and looking lost.\\n\\nJIM\\n(confused)\\nPam, I think we took a wrong turn. This map is so confusing.\\n\\nPAM\\n(giggling)\\nYeah, I think we\\'re definitely lost. But hey, at least we\\'re lost together, right?\\n\\nINT. VENICE - DAY\\n\\nJim and Pam are sitting in a gondola, gliding through the romantic canals of Venice.\\n\\nJIM\\n(smirking)\\nSo, Pam, do you think we can recreate that famous scene from \"The Italian Job\" while we\\'re here?\\n\\nPAM\\n(laughing)\\nI don\\'t know about that, but we can definitely enjoy the beautiful scenery and maybe even try some authentic Italian gelato.\\n\\nINT. PARIS - DAY\\n\\nJim and Pam are standing in front of the Eiffel Tower, taking a selfie.\\n\\nJIM\\n(grinning)\\nPam, can you believe we\\'re actually in Paris? This is like a dream come true.\\n\\nPAM\\n(hugging Jim)\\nI know, it\\'s incredible. And to think, we\\'re experiencing all of this with our crazy office family.\\n\\nThey both smile at each other, capturing the moment in their photo.\\n\\nFADE OUT.'}"
      ]
     },
     "execution_count": 21,
     "metadata": {},
     "output_type": "execute_result"
    }
   ],
   "source": [
    "conversation"
   ]
  },
  {
   "cell_type": "code",
   "execution_count": 22,
   "metadata": {
    "colab": {
     "base_uri": "https://localhost:8080/"
    },
    "id": "vAVHqoKGS4hy",
    "outputId": "3e74bdf9-cd1a-47c3-f454-e264d47f8aee"
   },
   "outputs": [
    {
     "data": {
      "text/plain": [
       "[Document(page_content='INT. SCRANTON BRANCH - DUNDER MIFFLIN - DAY\\n\\nJim and Pam are sitting at their desks, looking excited and slightly nervous.\\n\\nJIM\\n(whispering)\\nCan you believe it, Pam? We\\'re actually going to Europe with the whole office!\\n\\nPAM\\n(smiling)\\nI know, right? It\\'s going to be so much fun! I can\\'t wait to see Michael\\'s reaction to all the cultural differences.\\n\\nINT. AIRPLANE - DAY\\n\\nJim and Pam are seated next to each other on the plane, wearing matching neck pillows.\\n\\nJIM\\n(looking out the window)\\nHey, Pam, look at that view! We\\'re flying over the English Channel.\\n\\nPAM\\n(excitedly)\\nI know, it\\'s amazing! I can\\'t wait to explore London. I\\'ve always wanted to see Big Ben and the Tower Bridge.\\n\\nINT. LONDON - DAY\\n\\nJim and Pam are walking through the busy streets of London, holding a map and looking lost.\\n\\nJIM\\n(confused)\\nPam, I think we took a wrong turn. This map is so confusing.\\n\\nPAM\\n(giggling)\\nYeah, I think we\\'re definitely lost. But hey, at least we\\'re lost together, right?\\n\\nINT. VENICE - DAY\\n\\nJim and Pam are sitting in a gondola, gliding through the romantic canals of Venice.\\n\\nJIM\\n(smirking)\\nSo, Pam, do you think we can recreate that famous scene from \"The Italian Job\" while we\\'re here?\\n\\nPAM\\n(laughing)\\nI don\\'t know about that, but we can definitely enjoy the beautiful scenery and maybe even try some authentic Italian gelato.\\n\\nINT. PARIS - DAY\\n\\nJim and Pam are standing in front of the Eiffel Tower, taking a selfie.\\n\\nJIM\\n(grinning)\\nPam, can you believe we\\'re actually in Paris? This is like a dream come true.\\n\\nPAM\\n(hugging Jim)\\nI know, it\\'s incredible. And to think, we\\'re experiencing all of this with our crazy office family.\\n\\nThey both smile at each other, capturing the moment in their photo.\\n\\nFADE OUT.')]"
      ]
     },
     "execution_count": 22,
     "metadata": {},
     "output_type": "execute_result"
    }
   ],
   "source": [
    "docs = [Document(page_content=conversation['output'])]\n",
    "docs"
   ]
  },
  {
   "cell_type": "code",
   "execution_count": 23,
   "metadata": {
    "colab": {
     "base_uri": "https://localhost:8080/"
    },
    "id": "WO9ykFzeSuQ6",
    "outputId": "ba73b955-d6e8-4fce-c2ba-b6fd2803d009"
   },
   "outputs": [
    {
     "name": "stdout",
     "output_type": "stream",
     "text": [
      "\n",
      "\n",
      "\u001b[1m> Entering new StuffDocumentsChain chain...\u001b[0m\n",
      "\n",
      "\n",
      "\u001b[1m> Entering new LLMChain chain...\u001b[0m\n",
      "Prompt after formatting:\n",
      "\u001b[32;1m\u001b[1;3m\n",
      "Write a concise bullet list summary of the conversation between Jim and Pam from the TV show \"The Office\":\n",
      "\n",
      "INT. SCRANTON BRANCH - DUNDER MIFFLIN - DAY\n",
      "\n",
      "Jim and Pam are sitting at their desks, looking excited and slightly nervous.\n",
      "\n",
      "JIM\n",
      "(whispering)\n",
      "Can you believe it, Pam? We're actually going to Europe with the whole office!\n",
      "\n",
      "PAM\n",
      "(smiling)\n",
      "I know, right? It's going to be so much fun! I can't wait to see Michael's reaction to all the cultural differences.\n",
      "\n",
      "INT. AIRPLANE - DAY\n",
      "\n",
      "Jim and Pam are seated next to each other on the plane, wearing matching neck pillows.\n",
      "\n",
      "JIM\n",
      "(looking out the window)\n",
      "Hey, Pam, look at that view! We're flying over the English Channel.\n",
      "\n",
      "PAM\n",
      "(excitedly)\n",
      "I know, it's amazing! I can't wait to explore London. I've always wanted to see Big Ben and the Tower Bridge.\n",
      "\n",
      "INT. LONDON - DAY\n",
      "\n",
      "Jim and Pam are walking through the busy streets of London, holding a map and looking lost.\n",
      "\n",
      "JIM\n",
      "(confused)\n",
      "Pam, I think we took a wrong turn. This map is so confusing.\n",
      "\n",
      "PAM\n",
      "(giggling)\n",
      "Yeah, I think we're definitely lost. But hey, at least we're lost together, right?\n",
      "\n",
      "INT. VENICE - DAY\n",
      "\n",
      "Jim and Pam are sitting in a gondola, gliding through the romantic canals of Venice.\n",
      "\n",
      "JIM\n",
      "(smirking)\n",
      "So, Pam, do you think we can recreate that famous scene from \"The Italian Job\" while we're here?\n",
      "\n",
      "PAM\n",
      "(laughing)\n",
      "I don't know about that, but we can definitely enjoy the beautiful scenery and maybe even try some authentic Italian gelato.\n",
      "\n",
      "INT. PARIS - DAY\n",
      "\n",
      "Jim and Pam are standing in front of the Eiffel Tower, taking a selfie.\n",
      "\n",
      "JIM\n",
      "(grinning)\n",
      "Pam, can you believe we're actually in Paris? This is like a dream come true.\n",
      "\n",
      "PAM\n",
      "(hugging Jim)\n",
      "I know, it's incredible. And to think, we're experiencing all of this with our crazy office family.\n",
      "\n",
      "They both smile at each other, capturing the moment in their photo.\n",
      "\n",
      "FADE OUT.\n",
      "\n",
      "Concise summary using markdown:\u001b[0m\n",
      "\n",
      "\u001b[1m> Finished chain.\u001b[0m\n",
      "\n",
      "\u001b[1m> Finished chain.\u001b[0m\n"
     ]
    }
   ],
   "source": [
    "summary_result = summary_chain.run(docs)"
   ]
  },
  {
   "cell_type": "code",
   "execution_count": 24,
   "metadata": {
    "colab": {
     "base_uri": "https://localhost:8080/"
    },
    "id": "ftc5Xxh1SzYZ",
    "outputId": "754b794c-5248-42eb-c288-067ea76c6bf5"
   },
   "outputs": [
    {
     "name": "stdout",
     "output_type": "stream",
     "text": [
      "- Jim and Pam are excited about going to Europe with the office.\n",
      "- They discuss their anticipation of seeing Michael's reaction to cultural differences.\n",
      "- They admire the view of the English Channel from the airplane.\n",
      "- They express excitement about exploring London and seeing landmarks like Big Ben and the Tower Bridge.\n",
      "- They get lost in London but find humor in being lost together.\n",
      "- They enjoy a romantic gondola ride in Venice and joke about recreating a scene from \"The Italian Job.\"\n",
      "- They take a selfie in front of the Eiffel Tower in Paris and reflect on the amazing experience of being in Europe with their office family.\n"
     ]
    }
   ],
   "source": [
    "print(summary_result)"
   ]
  },
  {
   "cell_type": "markdown",
   "metadata": {
    "id": "cGjTIQFibbTr"
   },
   "source": [
    "## Question Answering"
   ]
  },
  {
   "cell_type": "code",
   "execution_count": 25,
   "metadata": {
    "id": "6dY040hyU8X7"
   },
   "outputs": [],
   "source": [
    "template = \"\"\"\n",
    "You have to come up with a 200-300 word script for a new episode \n",
    "of the TV show \"The Office\" based on the theme\n",
    "\n",
    "{theme_suggestion}\n",
    "\n",
    "ANSWER:\n",
    "\"\"\"\n",
    "prompt = PromptTemplate(input_variables=[\"theme_suggestion\"], template=template)\n",
    "\n",
    "script_chain = LLMChain(llm=chat_gpt, prompt=prompt)"
   ]
  },
  {
   "cell_type": "code",
   "execution_count": 26,
   "metadata": {
    "id": "iyt9CmTSekP7"
   },
   "outputs": [],
   "source": [
    "script_response = script_chain(\"Bohemian Rapsody\")"
   ]
  },
  {
   "cell_type": "code",
   "execution_count": 27,
   "metadata": {
    "colab": {
     "base_uri": "https://localhost:8080/"
    },
    "id": "X1o0_ONLenVX",
    "outputId": "956ee247-a2fb-4412-df1a-84bd48c70f5f"
   },
   "outputs": [
    {
     "name": "stdout",
     "output_type": "stream",
     "text": [
      "Title: \"The Office: Bohemian Rhapsody\"\n",
      "\n",
      "INT. DUNDER MIFFLIN SCRANTON OFFICE - DAY\n",
      "\n",
      "The office is buzzing with excitement as the employees prepare for the annual talent show. MICHAEL SCOTT, the regional manager, is in his office, practicing his guitar.\n",
      "\n",
      "MICHAEL\n",
      "(singing)\n",
      "Is this the real life? Is this just fantasy?\n",
      "\n",
      "JIM HALPERT, the prankster, enters the office and smirks at Michael's performance.\n",
      "\n",
      "JIM\n",
      "(smirking)\n",
      "Hey, Michael. Getting ready for the talent show?\n",
      "\n",
      "MICHAEL\n",
      "(excitedly)\n",
      "Yes, Jim! I'm going to perform \"Bohemian Rhapsody\" by Queen. It's going to be legendary!\n",
      "\n",
      "INT. BREAK ROOM - DAY\n",
      "\n",
      "PAM BEESLY, the receptionist, is talking to DWIGHT SCHRUTE, the eccentric assistant regional manager.\n",
      "\n",
      "PAM\n",
      "So, Dwight, are you participating in the talent show?\n",
      "\n",
      "DWIGHT\n",
      "Absolutely, Pam. I am going to showcase my impeccable karate skills. I will be the ultimate warrior!\n",
      "\n",
      "PAM\n",
      "(smiling)\n",
      "That sounds interesting, Dwight. Can't wait to see it.\n",
      "\n",
      "INT. CONFERENCE ROOM - DAY\n",
      "\n",
      "The employees gather for the talent show. MICHAEL takes the stage with his guitar, nervously adjusting the microphone.\n",
      "\n",
      "MICHAEL\n",
      "(loudly)\n",
      "Ladies and gentlemen, prepare to be amazed by my rendition of \"Bohemian Rhapsody\"!\n",
      "\n",
      "The office watches in anticipation as Michael starts strumming his guitar and singing. The employees exchange amused glances.\n",
      "\n",
      "INT. OFFICE - DAY\n",
      "\n",
      "Throughout the performance, the camera pans to various employees' reactions. JIM and PAM share a laugh, while DWIGHT watches with a serious expression.\n",
      "\n",
      "INT. CONFERENCE ROOM - DAY\n",
      "\n",
      "As Michael reaches the iconic \"Galileo\" part, DWIGHT suddenly jumps on stage, dressed in a karate uniform.\n",
      "\n",
      "DWIGHT\n",
      "(interrupting)\n",
      "Enough of this nonsense! Witness the true power of martial arts!\n",
      "\n",
      "Dwight starts performing a series of exaggerated karate moves, completely stealing the spotlight from Michael.\n",
      "\n",
      "INT. OFFICE - DAY\n",
      "\n",
      "The employees burst into laughter, clapping and cheering for Dwight's unexpected performance.\n",
      "\n",
      "INT. CONFERENCE ROOM - DAY\n",
      "\n",
      "Michael, initially shocked, joins in the laughter and applauds Dwight's antics.\n",
      "\n",
      "MICHAEL\n",
      "(laughing)\n",
      "Well, Dwight, you certainly know how to make an entrance!\n",
      "\n",
      "DWIGHT\n",
      "(smiling)\n",
      "Thank you, Michael. I always strive for greatness.\n",
      "\n",
      "The talent show continues with various acts, but Dwight's unexpected karate performance becomes the highlight of the day.\n",
      "\n",
      "FADE OUT.\n"
     ]
    }
   ],
   "source": [
    "script = script_response[\"text\"]\n",
    "print(script)"
   ]
  },
  {
   "cell_type": "code",
   "execution_count": 28,
   "metadata": {
    "colab": {
     "base_uri": "https://localhost:8080/"
    },
    "id": "0aXQm01yequa",
    "outputId": "4e619c5d-06ab-4d0a-88e6-ab1fba583ce5"
   },
   "outputs": [
    {
     "data": {
      "text/plain": [
       "2"
      ]
     },
     "execution_count": 28,
     "metadata": {},
     "output_type": "execute_result"
    }
   ],
   "source": [
    "script_docs = [Document(page_content=script)]\n",
    "\n",
    "text_splitter = CharacterTextSplitter(chunk_size=2048, chunk_overlap=32)\n",
    "texts = text_splitter.split_documents(script_docs)\n",
    "len(texts)"
   ]
  },
  {
   "cell_type": "code",
   "execution_count": 29,
   "metadata": {
    "id": "LExlv6-niIIg"
   },
   "outputs": [],
   "source": [
    "embeddings = OpenAIEmbeddings()"
   ]
  },
  {
   "cell_type": "code",
   "execution_count": 30,
   "metadata": {
    "colab": {
     "base_uri": "https://localhost:8080/"
    },
    "id": "HUiYKC00iSFo",
    "outputId": "62ee399d-924a-495f-9674-899fa8b45891"
   },
   "outputs": [],
   "source": [
    "db = Chroma.from_documents(texts, embeddings)"
   ]
  },
  {
   "cell_type": "code",
   "execution_count": 31,
   "metadata": {
    "id": "2wmCWKlSizRM"
   },
   "outputs": [],
   "source": [
    "qa_chain = RetrievalQA.from_chain_type(\n",
    "    llm=chat_gpt, chain_type=\"stuff\", retriever=db.as_retriever(search_kwargs={\"k\": 2})\n",
    ")"
   ]
  },
  {
   "cell_type": "code",
   "execution_count": 32,
   "metadata": {
    "colab": {
     "base_uri": "https://localhost:8080/"
    },
    "id": "hw1sPPEWjl4s",
    "outputId": "da155540-b928-463f-8d92-cb2678ffeb49"
   },
   "outputs": [
    {
     "data": {
      "text/plain": [
       "{'query': 'What is the location that The Office team is visiting?',\n",
       " 'result': 'The given context does not provide any information about The Office team visiting a specific location.'}"
      ]
     },
     "execution_count": 32,
     "metadata": {},
     "output_type": "execute_result"
    }
   ],
   "source": [
    "response = qa_chain(\"What is the location that The Office team is visiting?\")\n",
    "response"
   ]
  },
  {
   "cell_type": "code",
   "execution_count": 33,
   "metadata": {
    "colab": {
     "base_uri": "https://localhost:8080/"
    },
    "id": "2UA75henj_hB",
    "outputId": "1e6473c1-6b10-40cc-a55e-aa4a60ee91e2"
   },
   "outputs": [
    {
     "name": "stdout",
     "output_type": "stream",
     "text": [
      "The given context does not provide any information about The Office team visiting a specific\n",
      "location.\n"
     ]
    }
   ],
   "source": [
    "print_response(response[\"result\"])"
   ]
  },
  {
   "cell_type": "code",
   "execution_count": 34,
   "metadata": {
    "colab": {
     "base_uri": "https://localhost:8080/"
    },
    "id": "wR4kYwq5kel7",
    "outputId": "fba7f8e5-06a5-4b83-e95b-83f1ab621e1e"
   },
   "outputs": [
    {
     "name": "stdout",
     "output_type": "stream",
     "text": [
      "The highlight of the talent show was Dwight's unexpected karate performance.\n"
     ]
    }
   ],
   "source": [
    "response = qa_chain(\"What was the highlight of the talent show?\")\n",
    "print_response(response[\"result\"])"
   ]
  },
  {
   "cell_type": "markdown",
   "metadata": {
    "id": "tUzV90_YnsJ3"
   },
   "source": [
    "## Bash Chain"
   ]
  },
  {
   "cell_type": "code",
   "execution_count": 108,
   "metadata": {
    "colab": {
     "base_uri": "https://localhost:8080/",
     "height": 268
    },
    "id": "jNThdO0ltnBw",
    "outputId": "5855c1f1-2161-483c-d588-225e97fa565f"
   },
   "outputs": [
    {
     "name": "stdout",
     "output_type": "stream",
     "text": [
      "\n",
      "\n",
      "\u001b[1m> Entering new LLMBashChain chain...\u001b[0m\n",
      "\n",
      "Please write a bash script that prints a single line that Michael G. Scott from \"The Office\" might say\n",
      "\u001b[32;1m\u001b[1;3m\n",
      "```bash\n",
      "echo \"That's what she said!\"\n",
      "```\u001b[0m['```bash', 'echo \"That\\'s what she said!\"', '```']\n",
      "\n",
      "Answer: \u001b[33;1m\u001b[1;3mThat's what she said!\n",
      "\u001b[0m\n",
      "\u001b[1m> Finished chain.\u001b[0m\n"
     ]
    },
    {
     "data": {
      "application/vnd.google.colaboratory.intrinsic+json": {
       "type": "string"
      },
      "text/plain": [
       "\"That's what she said!\\n\""
      ]
     },
     "execution_count": 108,
     "metadata": {},
     "output_type": "execute_result"
    }
   ],
   "source": [
    "text = \"\"\"\n",
    "Please write a bash script that prints a single line that Michael G. Scott from \"The Office\" might say\n",
    "\"\"\"\n",
    "\n",
    "# bash_chain = LLMBashChain(llm=OpenAI(temperature=0), verbose=True)\n",
    "\n",
    "# bash_chain.run(text)"
   ]
  }
 ],
 "metadata": {
  "colab": {
   "provenance": []
  },
  "kernelspec": {
   "display_name": "Python 3 (ipykernel)",
   "language": "python",
   "name": "python3"
  },
  "language_info": {
   "codemirror_mode": {
    "name": "ipython",
    "version": 3
   },
   "file_extension": ".py",
   "mimetype": "text/x-python",
   "name": "python",
   "nbconvert_exporter": "python",
   "pygments_lexer": "ipython3",
   "version": "3.11.5"
  }
 },
 "nbformat": 4,
 "nbformat_minor": 4
}
